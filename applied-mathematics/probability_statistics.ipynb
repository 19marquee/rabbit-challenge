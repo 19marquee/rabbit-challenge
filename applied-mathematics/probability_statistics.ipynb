{
  "nbformat": 4,
  "nbformat_minor": 0,
  "metadata": {
    "colab": {
      "name": "probability-statistics.ipynb",
      "provenance": [],
      "collapsed_sections": [],
      "authorship_tag": "ABX9TyP4EF25koSm5F9Rl5fFJaQJ",
      "include_colab_link": true
    },
    "kernelspec": {
      "name": "python3",
      "display_name": "Python 3"
    },
    "language_info": {
      "name": "python"
    }
  },
  "cells": [
    {
      "cell_type": "markdown",
      "metadata": {
        "id": "view-in-github",
        "colab_type": "text"
      },
      "source": [
        "<a href=\"https://colab.research.google.com/github/19marquee/rabbit-challenge/blob/main/applied-mathematics/probability_statistics.ipynb\" target=\"_parent\"><img src=\"https://colab.research.google.com/assets/colab-badge.svg\" alt=\"Open In Colab\"/></a>"
      ]
    },
    {
      "cell_type": "markdown",
      "metadata": {
        "id": "UTXzz53cCEFn"
      },
      "source": [
        "# レポート 応用数学/第二章：確率・統計\n",
        "### 100文字以内の要点のまとめ\n",
        "- *確率・統計に登場する「事象」は「集合」として取り扱うことができる。*\n",
        "- 条件付き確率とは、ある事象X=xが与えられたもとで、Y=yとなる確率  \n",
        "$$\n",
        "P(Y=y|X=x) = \\dfrac{P(Y=y,X=x)}{P(X=x)}  \n",
        "$$\n",
        "$\n",
        "P(Y=y,X=x)\n",
        "$\n",
        "は、X=xとY=yの同時確率\n",
        "- ベイズ則\n",
        "$$\n",
        "P(A)(B|A)=P(B)(A|B)\n",
        "$$\n",
        "- 記述統計は、集団の性質を要約し記述する。\n",
        "- 推測統計は、集団から一部を取り出し元の集団（母集団）の性質を推測する。\n",
        "- 母集団から抽出したもの（データ）を標本という。\n",
        "- 確率変数は、事象と結びつけられた数値。\n",
        "- 確率分布は、事象の発生する確率の分布。\n",
        "- 分散はデータの散らばり具合を表し、共分散は2つのデータ系列の傾向の違いを表す。\n",
        "- ベルヌーイ分布は、二種類の結果（例：コイントスの裏表）がある試行の結果を表した分布。\n",
        "- マルチヌーイ分布は、多種類の結果（例：さいころ）がある試行の結果を表した分布。\n",
        "- 二項分布は、ベルヌーイ分布の多試行版。\n",
        "- ガウス分布は、釣り鐘型の連続分布。真の分布が分からなくても、サンプル数が多ければ正規分布に近づく。\n",
        "- 二項分布は、ベルヌーイ分布の多試行版。\n",
        "- ガウス分布は、釣り鐘型の連続分布。真の分布が分からなくても、サンプル数が多ければ正規分布に近づく。\n",
        "$$\n",
        "N(x;μ,σ^{2}) = \\sqrt{\\dfrac{1}{2πσ^{2}}}\\exp(-\\dfrac{1}{2σ^{2}}(x-μ)^{2})\n",
        "$$\n",
        "$μ$は平均、$σ^{2}$は分散を表す。"
      ]
    }
  ]
}