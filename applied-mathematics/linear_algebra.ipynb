{
  "nbformat": 4,
  "nbformat_minor": 0,
  "metadata": {
    "colab": {
      "name": "linear-algebra.ipynb",
      "provenance": [],
      "collapsed_sections": [],
      "authorship_tag": "ABX9TyOHm+3ELsijt4davTj0JEeQ",
      "include_colab_link": true
    },
    "kernelspec": {
      "name": "python3",
      "display_name": "Python 3"
    },
    "language_info": {
      "name": "python"
    }
  },
  "cells": [
    {
      "cell_type": "markdown",
      "metadata": {
        "id": "view-in-github",
        "colab_type": "text"
      },
      "source": [
        "<a href=\"https://colab.research.google.com/github/19marquee/rabbit-challenge/blob/main/applied-mathematics/linear_algebra.ipynb\" target=\"_parent\"><img src=\"https://colab.research.google.com/assets/colab-badge.svg\" alt=\"Open In Colab\"/></a>"
      ]
    },
    {
      "cell_type": "markdown",
      "metadata": {
        "id": "suhoz1ApeHCm"
      },
      "source": [
        "# レポート 応用数学/第一章：線形代数\n",
        "### 100文字以内の要点のまとめ\n",
        "- 行基本変形により、連立一次方程式を解くことができる。  \n",
        " 対角成分が1でそれ以外の成分が0である、正方行列のことを単位行列という。  \n",
        "- 任意の行列にかけると単位行列になる（逆数のような働きをもつ）行列のことを逆行列という。  \n",
        "- 任意の行列の逆行列を求める手法の１つとして、掃き出し法がある。  \n",
        "- 固有値分解は、\n",
        "$$\n",
        "A=VΛV^{-1}\n",
        "$$\n",
        "任意の正方行列を上述のような3つの行列の積に変換することをいう。\n",
        "$Λ$は、行列Aの固有値を対角線上に並べた行列で、$V$は、それに対応する固有ベクトルを並べた行列。\n",
        "- 固有値分解の利点として、行列の累乗の計算が容易になる点がある。  \n",
        "- 正方行列ではない行列では、固有値分解の代わりに特異値分解を行うことができる場合がある。  \n",
        "- 固有値分解、特異値分解は、行列の特徴を捉える、見つけるということ以外にも、画像の圧縮や、機械学習モデルのデータの前処理に活用することに活用することが可能である。  \n"
      ]
    }
  ]
}