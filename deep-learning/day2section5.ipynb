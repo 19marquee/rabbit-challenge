{
  "nbformat": 4,
  "nbformat_minor": 0,
  "metadata": {
    "colab": {
      "name": "day2section5.ipynb",
      "provenance": [],
      "collapsed_sections": [],
      "authorship_tag": "ABX9TyPCaD5/hp/6090OSS6IvMzg",
      "include_colab_link": true
    },
    "kernelspec": {
      "name": "python3",
      "display_name": "Python 3"
    },
    "language_info": {
      "name": "python"
    }
  },
  "cells": [
    {
      "cell_type": "markdown",
      "metadata": {
        "id": "view-in-github",
        "colab_type": "text"
      },
      "source": [
        "<a href=\"https://colab.research.google.com/github/19marquee/rabbit-challenge/blob/main/deep-learning/day2section5.ipynb\" target=\"_parent\"><img src=\"https://colab.research.google.com/assets/colab-badge.svg\" alt=\"Open In Colab\"/></a>"
      ]
    },
    {
      "cell_type": "markdown",
      "metadata": {
        "id": "EuEn5liHayvx"
      },
      "source": [
        "# レポート 深層学習day2/Section5:最新のCNN\n"
      ]
    },
    {
      "cell_type": "markdown",
      "metadata": {
        "id": "hlVT7Fkga0lu"
      },
      "source": [
        "## 100文字以内の要点のまとめ\n"
      ]
    },
    {
      "cell_type": "markdown",
      "metadata": {
        "id": "u36ZYT5ma0hn"
      },
      "source": [
        "- AlexNet：5層の畳み込み層およびプーリング層、3層の全結合層から構成される。最終の出力はサイズ1000。1000ラベルの画像分類タスクに対応。\n",
        "- Flatten：横１列に並べる処理。畳み込み層の出力に全結合層を適用する前に適用されることが多い。\n",
        "- AlexNetは、過学習を防ぐために、サイズ4096の全結合層の出力にドロップアウトを使用している。"
      ]
    },
    {
      "cell_type": "markdown",
      "metadata": {
        "id": "8SiQ7i88a0c-"
      },
      "source": [
        "## 実装演習のファイル量、コード量が多いため、実装演習結果は、別ファイルに記載します"
      ]
    },
    {
      "cell_type": "markdown",
      "metadata": {
        "id": "pw7LDoE0a0Eu"
      },
      "source": [
        "・day2section5_1.ipynb  \n",
        "・day2section5_2.ipynb  \n",
        "・day2section5_3.ipynb"
      ]
    },
    {
      "cell_type": "markdown",
      "metadata": {
        "id": "QcTyGPeea8vP"
      },
      "source": [
        "##確認テスト"
      ]
    },
    {
      "cell_type": "markdown",
      "metadata": {
        "id": "cTzsoON-ECaZ"
      },
      "source": [
        "・サイズ5×5の入力画像を、サイズ3×3のフィルタで畳み込んだ時の出力画像のサイズを答えよ。なおストライドは2、パディングは1とする。"
      ]
    },
    {
      "cell_type": "markdown",
      "metadata": {
        "id": "ewqGFT0LSOSs"
      },
      "source": [
        "解答  \n",
        "\n",
        "公式に当てはめると、  \n",
        "$\n",
        "\\dfrac{5+1*2-3}{2}+1 = 3\n",
        "$  \n",
        "より、出力サイズは3x3。"
      ]
    }
  ]
}