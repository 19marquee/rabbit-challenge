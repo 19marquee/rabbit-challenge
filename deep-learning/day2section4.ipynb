{
  "nbformat": 4,
  "nbformat_minor": 0,
  "metadata": {
    "colab": {
      "name": "day2section4.ipynb",
      "provenance": [],
      "collapsed_sections": [],
      "authorship_tag": "ABX9TyNG5kh1q/DJlb/p/g0IFjeg",
      "include_colab_link": true
    },
    "kernelspec": {
      "name": "python3",
      "display_name": "Python 3"
    },
    "language_info": {
      "name": "python"
    }
  },
  "cells": [
    {
      "cell_type": "markdown",
      "metadata": {
        "id": "view-in-github",
        "colab_type": "text"
      },
      "source": [
        "<a href=\"https://colab.research.google.com/github/19marquee/rabbit-challenge/blob/main/deep-learning/day2section4.ipynb\" target=\"_parent\"><img src=\"https://colab.research.google.com/assets/colab-badge.svg\" alt=\"Open In Colab\"/></a>"
      ]
    },
    {
      "cell_type": "markdown",
      "metadata": {
        "id": "R3JUEbZXaBeT"
      },
      "source": [
        "# レポート 深層学習day2/Section4:畳み込みニューラルネットワークの概念\n"
      ]
    },
    {
      "cell_type": "markdown",
      "metadata": {
        "id": "ieu8pfHyaBXb"
      },
      "source": [
        "## 100文字以内の要点のまとめ\n"
      ]
    },
    {
      "cell_type": "markdown",
      "metadata": {
        "id": "GjjhDFMMaBME"
      },
      "source": [
        "- 畳み込みニューラルネットワーク(CNN)：次元間で繋がりのあるデータを扱える。画像分野での使用が有名だが、画像データ以外にも音声や動画など扱えるデータはある。\n",
        "- 畳み込み層：入力値にフィルターを畳み込むことで出力を得る。フィルターは全結合層でいう重みで、学習対象である。\n",
        "- 全結合層で画像データを扱う場合、縦、横、RGBチャネル間の関係性を学習に反映できない。\n",
        "- プーリング層：主なプーリング処理として、maxプーリング、平均プーリングがある。重みを使用しない処理、層である。"
      ]
    },
    {
      "cell_type": "markdown",
      "metadata": {
        "id": "LBqmS-lVaA9V"
      },
      "source": [
        "## 実装演習のファイル量、コード量が多いため、実装演習結果は、別ファイルに記載します"
      ]
    },
    {
      "cell_type": "markdown",
      "metadata": {
        "id": "m_BWOF-LaH60"
      },
      "source": [
        "・day2section4_1.ipynb  \n",
        "・day2section4_2.ipynb  "
      ]
    },
    {
      "cell_type": "markdown",
      "metadata": {
        "id": "h9pBUXR5aIG0"
      },
      "source": [
        "##確認テスト"
      ]
    },
    {
      "cell_type": "markdown",
      "metadata": {
        "id": "8PsTl-oiZ6H1"
      },
      "source": [
        "・サイズ6×6の入力画像を、サイズ2×2のフィルタで畳み込んだ時の出力画像のサイズを答えよ。なおストライドとパディングは1とする。"
      ]
    },
    {
      "cell_type": "markdown",
      "metadata": {
        "id": "52EfwtJkaIAF"
      },
      "source": [
        "解答  \n",
        "\n",
        "公式に当てはめると、  \n",
        "$\n",
        "6+1*2-2+1 = 7\n",
        "$\n",
        "\n",
        "より、出力画像のサイズは7×7となる。"
      ]
    }
  ]
}