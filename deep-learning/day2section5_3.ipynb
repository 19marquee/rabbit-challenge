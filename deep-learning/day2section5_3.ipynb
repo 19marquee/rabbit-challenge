{
  "nbformat": 4,
  "nbformat_minor": 0,
  "metadata": {
    "colab": {
      "name": "day2section5_3.ipynb",
      "provenance": [],
      "authorship_tag": "ABX9TyPUt+cx0M0L4+z6TsdIdnDS",
      "include_colab_link": true
    },
    "kernelspec": {
      "name": "python3",
      "display_name": "Python 3"
    },
    "language_info": {
      "name": "python"
    }
  },
  "cells": [
    {
      "cell_type": "markdown",
      "metadata": {
        "id": "view-in-github",
        "colab_type": "text"
      },
      "source": [
        "<a href=\"https://colab.research.google.com/github/19marquee/rabbit-challenge/blob/main/deep-learning/day2section5_3.ipynb\" target=\"_parent\"><img src=\"https://colab.research.google.com/assets/colab-badge.svg\" alt=\"Open In Colab\"/></a>"
      ]
    },
    {
      "cell_type": "markdown",
      "metadata": {
        "id": "8cNl2QA_Rnv5"
      },
      "source": [
        "# 準備"
      ]
    },
    {
      "cell_type": "markdown",
      "metadata": {
        "id": "YkwjN1jNVAYy"
      },
      "source": [
        "## Googleドライブのマウント"
      ]
    },
    {
      "cell_type": "code",
      "metadata": {
        "id": "pvFXpiH3EVC1",
        "colab": {
          "base_uri": "https://localhost:8080/"
        },
        "outputId": "a89a5a48-6c80-4ebd-a50b-f96f64cb4287"
      },
      "source": [
        "from google.colab import drive\n",
        "drive.mount('/content/drive')"
      ],
      "execution_count": 7,
      "outputs": [
        {
          "output_type": "stream",
          "text": [
            "Drive already mounted at /content/drive; to attempt to forcibly remount, call drive.mount(\"/content/drive\", force_remount=True).\n"
          ],
          "name": "stdout"
        }
      ]
    },
    {
      "cell_type": "markdown",
      "metadata": {
        "id": "3Ub7RYdeY6pK"
      },
      "source": [
        "## sys.pathの設定"
      ]
    },
    {
      "cell_type": "markdown",
      "metadata": {
        "id": "oql7L19rEsWi"
      },
      "source": [
        "以下では，Googleドライブのマイドライブ直下にDNN_codeフォルダを置くことを仮定しています．必要に応じて，パスを変更してください．"
      ]
    },
    {
      "cell_type": "code",
      "metadata": {
        "id": "7Ic2JzkvFX59"
      },
      "source": [
        "import sys\n",
        "sys.path.append('/content/drive/My Drive/DNN_code')"
      ],
      "execution_count": 8,
      "outputs": []
    },
    {
      "cell_type": "markdown",
      "metadata": {
        "id": "PAEQ-7jl-odi"
      },
      "source": [
        "# deep convolution network"
      ]
    },
    {
      "cell_type": "code",
      "metadata": {
        "id": "B3j6DAkk-odk"
      },
      "source": [
        "import pickle\n",
        "import numpy as np\n",
        "from collections import OrderedDict\n",
        "from common import layers\n",
        "from data.mnist import load_mnist\n",
        "import matplotlib.pyplot as plt\n",
        "from common import optimizer\n",
        "\n",
        "class DeepConvNet:\n",
        "    '''\n",
        "    認識率99%以上の高精度なConvNet\n",
        "\n",
        "    conv - relu - conv- relu - pool -\n",
        "    conv - relu - conv- relu - pool -\n",
        "    conv - relu - conv- relu - pool -\n",
        "    affine - relu - dropout - affine - dropout - softmax\n",
        "    '''\n",
        "    def __init__(self, input_dim=(1, 28, 28),\n",
        "                 conv_param_1 = {'filter_num':16, 'filter_size':3, 'pad':1, 'stride':1},\n",
        "                 conv_param_2 = {'filter_num':16, 'filter_size':3, 'pad':1, 'stride':1},\n",
        "                 conv_param_3 = {'filter_num':32, 'filter_size':3, 'pad':1, 'stride':1},\n",
        "                 conv_param_4 = {'filter_num':32, 'filter_size':3, 'pad':2, 'stride':1},\n",
        "                 conv_param_5 = {'filter_num':64, 'filter_size':3, 'pad':1, 'stride':1},\n",
        "                 conv_param_6 = {'filter_num':64, 'filter_size':3, 'pad':1, 'stride':1},\n",
        "                 hidden_size=50, output_size=10):\n",
        "        # 重みの初期化===========\n",
        "        # 各層のニューロンひとつあたりが、前層のニューロンといくつのつながりがあるか\n",
        "        pre_node_nums = np.array([1*3*3, 16*3*3, 16*3*3, 32*3*3, 32*3*3, 64*3*3, 64*4*4, hidden_size])\n",
        "        wight_init_scales = np.sqrt(2.0 / pre_node_nums)  # Heの初期値\n",
        "        \n",
        "        self.params = {}\n",
        "        pre_channel_num = input_dim[0]\n",
        "        for idx, conv_param in enumerate([conv_param_1, conv_param_2, conv_param_3, conv_param_4, conv_param_5, conv_param_6]):\n",
        "            self.params['W' + str(idx+1)] = wight_init_scales[idx] * np.random.randn(conv_param['filter_num'], pre_channel_num, conv_param['filter_size'], conv_param['filter_size'])\n",
        "            self.params['b' + str(idx+1)] = np.zeros(conv_param['filter_num'])\n",
        "            pre_channel_num = conv_param['filter_num']\n",
        "        self.params['W7'] = wight_init_scales[6] * np.random.randn(pre_node_nums[6], hidden_size)\n",
        "        print(self.params['W7'].shape)\n",
        "        self.params['b7'] = np.zeros(hidden_size)\n",
        "        self.params['W8'] = wight_init_scales[7] * np.random.randn(pre_node_nums[7], output_size)\n",
        "        self.params['b8'] = np.zeros(output_size)\n",
        "\n",
        "        # レイヤの生成===========\n",
        "        self.layers = []\n",
        "        self.layers.append(layers.Convolution(self.params['W1'], self.params['b1'], \n",
        "                           conv_param_1['stride'], conv_param_1['pad']))\n",
        "        self.layers.append(layers.Relu())\n",
        "        self.layers.append(layers.Convolution(self.params['W2'], self.params['b2'], \n",
        "                           conv_param_2['stride'], conv_param_2['pad']))\n",
        "        self.layers.append(layers.Relu())\n",
        "        self.layers.append(layers.Pooling(pool_h=2, pool_w=2, stride=2))\n",
        "        self.layers.append(layers.Convolution(self.params['W3'], self.params['b3'], \n",
        "                           conv_param_3['stride'], conv_param_3['pad']))\n",
        "        self.layers.append(layers.Relu())\n",
        "        self.layers.append(layers.Convolution(self.params['W4'], self.params['b4'],\n",
        "                           conv_param_4['stride'], conv_param_4['pad']))\n",
        "        self.layers.append(layers.Relu())\n",
        "        self.layers.append(layers.Pooling(pool_h=2, pool_w=2, stride=2))\n",
        "        self.layers.append(layers.Convolution(self.params['W5'], self.params['b5'],\n",
        "                           conv_param_5['stride'], conv_param_5['pad']))\n",
        "        self.layers.append(layers.Relu())\n",
        "        self.layers.append(layers.Convolution(self.params['W6'], self.params['b6'],\n",
        "                           conv_param_6['stride'], conv_param_6['pad']))\n",
        "        self.layers.append(layers.Relu())\n",
        "        self.layers.append(layers.Pooling(pool_h=2, pool_w=2, stride=2))\n",
        "        self.layers.append(layers.Affine(self.params['W7'], self.params['b7']))\n",
        "        self.layers.append(layers.Relu())\n",
        "        self.layers.append(layers.Dropout(0.5))\n",
        "        self.layers.append(layers.Affine(self.params['W8'], self.params['b8']))\n",
        "        self.layers.append(layers.Dropout(0.5))\n",
        "        \n",
        "        self.last_layer = layers.SoftmaxWithLoss()\n",
        "\n",
        "    def predict(self, x, train_flg=False):\n",
        "        for layer in self.layers:\n",
        "            if isinstance(layer, layers.Dropout):\n",
        "                x = layer.forward(x, train_flg)\n",
        "            else:\n",
        "                x = layer.forward(x)\n",
        "        return x\n",
        "\n",
        "    def loss(self, x, d):\n",
        "        y = self.predict(x, train_flg=True)\n",
        "        return self.last_layer.forward(y, d)\n",
        "\n",
        "    def accuracy(self, x, d, batch_size=100):\n",
        "        if d.ndim != 1 : d = np.argmax(d, axis=1)\n",
        "\n",
        "        acc = 0.0\n",
        "\n",
        "        for i in range(int(x.shape[0] / batch_size)):\n",
        "            tx = x[i*batch_size:(i+1)*batch_size]\n",
        "            td = d[i*batch_size:(i+1)*batch_size]\n",
        "            y = self.predict(tx, train_flg=False)\n",
        "            y = np.argmax(y, axis=1)\n",
        "            acc += np.sum(y == td)\n",
        "\n",
        "        return acc / x.shape[0]\n",
        "\n",
        "    def gradient(self, x, d):\n",
        "        # forward\n",
        "        self.loss(x, d)\n",
        "\n",
        "        # backward\n",
        "        dout = 1\n",
        "        dout = self.last_layer.backward(dout)\n",
        "\n",
        "        tmp_layers = self.layers.copy()\n",
        "        tmp_layers.reverse()\n",
        "        for layer in tmp_layers:\n",
        "            dout = layer.backward(dout)\n",
        "\n",
        "        # 設定\n",
        "        grads = {}\n",
        "        for i, layer_idx in enumerate((0, 2, 5, 7, 10, 12, 15, 18)):\n",
        "            grads['W' + str(i+1)] = self.layers[layer_idx].dW\n",
        "            grads['b' + str(i+1)] = self.layers[layer_idx].db\n",
        "\n",
        "        return grads"
      ],
      "execution_count": 9,
      "outputs": []
    },
    {
      "cell_type": "code",
      "metadata": {
        "id": "u1WMGCkV-odn",
        "colab": {
          "base_uri": "https://localhost:8080/",
          "height": 998
        },
        "outputId": "514abab7-c15f-4b91-f942-e61b3cb472d1"
      },
      "source": [
        "(x_train, d_train), (x_test, d_test) = load_mnist(flatten=False)\n",
        "\n",
        "# 処理に時間のかかる場合はデータを削減 \n",
        "x_train, d_train = x_train[:5000], d_train[:5000]\n",
        "x_test, d_test = x_test[:1000], d_test[:1000]\n",
        "\n",
        "print(\"データ読み込み完了\")\n",
        "\n",
        "network = DeepConvNet()  \n",
        "optimizer = optimizer.Adam()\n",
        "\n",
        "iters_num = 200\n",
        "train_size = x_train.shape[0]\n",
        "batch_size = 100\n",
        "\n",
        "train_loss_list = []\n",
        "accuracies_train = []\n",
        "accuracies_test = []\n",
        "\n",
        "plot_interval=10\n",
        "\n",
        "\n",
        "for i in range(iters_num):\n",
        "    batch_mask = np.random.choice(train_size, batch_size)\n",
        "    x_batch = x_train[batch_mask]\n",
        "    d_batch = d_train[batch_mask]\n",
        "    \n",
        "    grad = network.gradient(x_batch, d_batch)\n",
        "    optimizer.update(network.params, grad)\n",
        "\n",
        "    loss = network.loss(x_batch, d_batch)\n",
        "    train_loss_list.append(loss)\n",
        "\n",
        "    if (i+1) % plot_interval == 0:\n",
        "        accr_train = network.accuracy(x_train, d_train)\n",
        "        accr_test = network.accuracy(x_test, d_test)\n",
        "        accuracies_train.append(accr_train)\n",
        "        accuracies_test.append(accr_test)\n",
        "        \n",
        "        print('Generation: ' + str(i+1) + '. 正答率(トレーニング) = ' + str(accr_train))\n",
        "        print('                : ' + str(i+1) + '. 正答率(テスト) = ' + str(accr_test))               \n",
        "\n",
        "lists = range(0, iters_num, plot_interval)\n",
        "plt.plot(lists, accuracies_train, label=\"training set\")\n",
        "plt.plot(lists, accuracies_test,  label=\"test set\")\n",
        "plt.legend(loc=\"lower right\")\n",
        "plt.title(\"accuracy\")\n",
        "plt.xlabel(\"count\")\n",
        "plt.ylabel(\"accuracy\")\n",
        "plt.ylim(0, 1.0)\n",
        "# グラフの表示\n",
        "plt.show()"
      ],
      "execution_count": 10,
      "outputs": [
        {
          "output_type": "stream",
          "text": [
            "データ読み込み完了\n",
            "(1024, 50)\n",
            "Generation: 10. 正答率(トレーニング) = 0.3836\n",
            "                : 10. 正答率(テスト) = 0.375\n",
            "Generation: 20. 正答率(トレーニング) = 0.4408\n",
            "                : 20. 正答率(テスト) = 0.417\n",
            "Generation: 30. 正答率(トレーニング) = 0.6848\n",
            "                : 30. 正答率(テスト) = 0.674\n",
            "Generation: 40. 正答率(トレーニング) = 0.728\n",
            "                : 40. 正答率(テスト) = 0.744\n",
            "Generation: 50. 正答率(トレーニング) = 0.8454\n",
            "                : 50. 正答率(テスト) = 0.82\n",
            "Generation: 60. 正答率(トレーニング) = 0.848\n",
            "                : 60. 正答率(テスト) = 0.829\n",
            "Generation: 70. 正答率(トレーニング) = 0.9118\n",
            "                : 70. 正答率(テスト) = 0.889\n",
            "Generation: 80. 正答率(トレーニング) = 0.9332\n",
            "                : 80. 正答率(テスト) = 0.917\n",
            "Generation: 90. 正答率(トレーニング) = 0.927\n",
            "                : 90. 正答率(テスト) = 0.901\n",
            "Generation: 100. 正答率(トレーニング) = 0.937\n",
            "                : 100. 正答率(テスト) = 0.922\n",
            "Generation: 110. 正答率(トレーニング) = 0.9212\n",
            "                : 110. 正答率(テスト) = 0.901\n",
            "Generation: 120. 正答率(トレーニング) = 0.9498\n",
            "                : 120. 正答率(テスト) = 0.927\n",
            "Generation: 130. 正答率(トレーニング) = 0.944\n",
            "                : 130. 正答率(テスト) = 0.932\n",
            "Generation: 140. 正答率(トレーニング) = 0.9498\n",
            "                : 140. 正答率(テスト) = 0.933\n",
            "Generation: 150. 正答率(トレーニング) = 0.9594\n",
            "                : 150. 正答率(テスト) = 0.946\n",
            "Generation: 160. 正答率(トレーニング) = 0.952\n",
            "                : 160. 正答率(テスト) = 0.944\n",
            "Generation: 170. 正答率(トレーニング) = 0.9506\n",
            "                : 170. 正答率(テスト) = 0.933\n",
            "Generation: 180. 正答率(トレーニング) = 0.9588\n",
            "                : 180. 正答率(テスト) = 0.931\n",
            "Generation: 190. 正答率(トレーニング) = 0.9644\n",
            "                : 190. 正答率(テスト) = 0.956\n",
            "Generation: 200. 正答率(トレーニング) = 0.9642\n",
            "                : 200. 正答率(テスト) = 0.951\n"
          ],
          "name": "stdout"
        },
        {
          "output_type": "display_data",
          "data": {
            "image/png": "[encoded data removed]",
            "text/plain": [
              "<Figure size 432x288 with 1 Axes>"
            ]
          },
          "metadata": {
            "tags": [],
            "needs_background": "light"
          }
        }
      ]
    }
  ]
}