{
  "nbformat": 4,
  "nbformat_minor": 0,
  "metadata": {
    "colab": {
      "name": "day1section5.ipynb",
      "provenance": [],
      "authorship_tag": "ABX9TyN5GMlfwSQ3Bc6ElG5p1y8x",
      "include_colab_link": true
    },
    "kernelspec": {
      "name": "python3",
      "display_name": "Python 3"
    },
    "language_info": {
      "name": "python"
    }
  },
  "cells": [
    {
      "cell_type": "markdown",
      "metadata": {
        "id": "view-in-github",
        "colab_type": "text"
      },
      "source": [
        "<a href=\"https://colab.research.google.com/github/19marquee/rabbit-challenge/blob/main/deep-learning/day1section5.ipynb\" target=\"_parent\"><img src=\"https://colab.research.google.com/assets/colab-badge.svg\" alt=\"Open In Colab\"/></a>"
      ]
    },
    {
      "cell_type": "markdown",
      "metadata": {
        "id": "tRvTMNra91cL"
      },
      "source": [
        "# レポート 深層学習day1/Section5:誤差逆伝搬法"
      ]
    },
    {
      "cell_type": "markdown",
      "metadata": {
        "id": "8zBbJNUdCNmD"
      },
      "source": [
        "## 100文字以内の要点のまとめ"
      ]
    },
    {
      "cell_type": "markdown",
      "metadata": {
        "id": "rqLDjSvkCN5A"
      },
      "source": [
        "- 勾配の計算方法として、数値微分があるが、計算量が膨大で計算機への負荷が大きい。\n",
        "- 誤差逆伝搬法：算出した誤差を出力層側から順に微分し、前の層へと伝搬していく手法。微分を逆算することで、不要な再帰的計算を避けて微分を行うことができる。（チェインルール）"
      ]
    },
    {
      "cell_type": "markdown",
      "metadata": {
        "id": "rU616UZdD9Cs"
      },
      "source": [
        "##実装演習結果"
      ]
    },
    {
      "cell_type": "markdown",
      "metadata": {
        "id": "8cNl2QA_Rnv5"
      },
      "source": [
        "#### 準備"
      ]
    },
    {
      "cell_type": "markdown",
      "metadata": {
        "id": "YkwjN1jNVAYy"
      },
      "source": [
        "#### Googleドライブのマウント"
      ]
    },
    {
      "cell_type": "code",
      "metadata": {
        "id": "pvFXpiH3EVC1",
        "colab": {
          "base_uri": "https://localhost:8080/"
        },
        "outputId": "f448cf40-8193-4e94-f2ca-0b8f9929698d"
      },
      "source": [
        "from google.colab import drive\n",
        "drive.mount('/content/drive')"
      ],
      "execution_count": 1,
      "outputs": [
        {
          "output_type": "stream",
          "text": [
            "Mounted at /content/drive\n"
          ],
          "name": "stdout"
        }
      ]
    },
    {
      "cell_type": "markdown",
      "metadata": {
        "id": "3Ub7RYdeY6pK"
      },
      "source": [
        "#### sys.pathの設定"
      ]
    },
    {
      "cell_type": "markdown",
      "metadata": {
        "id": "oql7L19rEsWi"
      },
      "source": [
        "以下では，Googleドライブのマイドライブ直下にDNN_codeフォルダを置くことを仮定しています．必要に応じて，パスを変更してください．"
      ]
    },
    {
      "cell_type": "code",
      "metadata": {
        "id": "7Ic2JzkvFX59"
      },
      "source": [
        "import sys\n",
        "sys.path.append('/content/drive/My Drive/DNN_code')"
      ],
      "execution_count": 2,
      "outputs": []
    },
    {
      "cell_type": "markdown",
      "metadata": {
        "id": "ToUJok-EiuLx"
      },
      "source": [
        "#### minst"
      ]
    },
    {
      "cell_type": "code",
      "metadata": {
        "id": "AMva1WVaintz",
        "colab": {
          "base_uri": "https://localhost:8080/",
          "height": 1000
        },
        "outputId": "b1e9d2aa-9faa-49a6-8f0f-32c491e12bab"
      },
      "source": [
        "import numpy as np\n",
        "from data.mnist import load_mnist\n",
        "import pickle\n",
        "from common import functions\n",
        "import matplotlib.pyplot as plt\n",
        "\n",
        "# mnistをロード\n",
        "(x_train, d_train), (x_test, d_test) = load_mnist(normalize=True, one_hot_label=True)\n",
        "train_size = len(x_train)\n",
        "\n",
        "print(\"データ読み込み完了\")\n",
        "\n",
        "# 重み初期値補正係数\n",
        "wieght_init = 0.01 # 変更してみよう\n",
        "#入力層サイズ\n",
        "input_layer_size = 784 # 変更してみよう\n",
        "#中間層サイズ\n",
        "hidden_layer_size = 40 # 変更してみよう\n",
        "#出力層サイズ\n",
        "output_layer_size = 10 # 変更してみよう\n",
        "# 繰り返し数\n",
        "iters_num = 1000 # 変更してみよう\n",
        "# ミニバッチサイズ\n",
        "batch_size = 100 # 変更してみよ\n",
        "# 学習率\n",
        "learning_rate = 0.1 # 変更してみよう\n",
        "# 描写頻度\n",
        "plot_interval=10\n",
        "\n",
        "# 初期設定\n",
        "def init_network():\n",
        "    network = {} \n",
        "    network['W1'] = wieght_init * np.random.randn(input_layer_size, hidden_layer_size)\n",
        "    network['W2'] = wieght_init * np.random.randn(hidden_layer_size, output_layer_size)\n",
        "    # 試してみよう_Xavierの初期値\n",
        "    # network['W1'] = np.random.randn(input_layer_size, hidden_layer_size) / np.sqrt(input_layer_size)\n",
        "    # network['W2'] = np.random.randn(hidden_layer_size, output_layer_size) / np.sqrt(hidden_layer_size)\n",
        "    # 試してみよう Heの初期値\n",
        "    # network['W1'] = np.random.randn(input_layer_size, hidden_layer_size) / np.sqrt(input_layer_size) * np.sqrt(2)\n",
        "    # network['W2'] = np.random.randn(hidden_layer_size, output_layer_size) / np.sqrt(hidden_layer_size) * np.sqrt(2)\n",
        "\n",
        "    network['b1'] = np.zeros(hidden_layer_size)\n",
        "    network['b2'] = np.zeros(output_layer_size)\n",
        "\n",
        "    return network\n",
        "\n",
        "# 順伝播\n",
        "def forward(network, x):\n",
        "    W1, W2 = network['W1'], network['W2']\n",
        "    b1, b2  = network['b1'], network['b2']\n",
        "        \n",
        "    u1 =  np.dot(x, W1) + b1\n",
        "    z1 = functions.relu(u1)\n",
        "    u2 =  np.dot(z1, W2) + b2\n",
        "    y = functions.softmax(u2)\n",
        " \n",
        "    return z1, y\n",
        "\n",
        "# 誤差逆伝播\n",
        "def backward(x, d, z1, y):\n",
        "    grad = {}\n",
        "    \n",
        "    W1, W2 = network['W1'], network['W2']\n",
        "    b1, b2 = network['b1'], network['b2']    \n",
        "    # 出力層でのデルタ\n",
        "    delta2 = functions.d_softmax_with_loss(d, y)\n",
        "    # b2の勾配\n",
        "    grad['b2'] = np.sum(delta2, axis=0)\n",
        "    # W2の勾配\n",
        "    grad['W2'] = np.dot(z1.T, delta2)\n",
        "    # 1層でのデルタ\n",
        "    delta1 = np.dot(delta2, W2.T) * functions.d_relu(z1)\n",
        "    # b1の勾配\n",
        "    grad['b1'] = np.sum(delta1, axis=0)\n",
        "    # W1の勾配\n",
        "    grad['W1'] = np.dot(x.T, delta1)\n",
        "\n",
        "    return grad\n",
        "\n",
        "# パラメータの初期化\n",
        "network = init_network()\n",
        "\n",
        "\n",
        "accuracies_train = []\n",
        "accuracies_test = []\n",
        "\n",
        "# 正答率\n",
        "def accuracy(x, d):\n",
        "    z1, y = forward(network, x)\n",
        "    y = np.argmax(y, axis=1)\n",
        "    if d.ndim != 1 : d = np.argmax(d, axis=1)\n",
        "    accuracy = np.sum(y == d) / float(x.shape[0])\n",
        "    return accuracy\n",
        "\n",
        "for i in range(iters_num):\n",
        "    # ランダムにバッチを取得    \n",
        "    batch_mask = np.random.choice(train_size, batch_size)\n",
        "    # ミニバッチに対応する教師訓練画像データを取得    \n",
        "    x_batch = x_train[batch_mask]\n",
        "    # ミニバッチに対応する訓練正解ラベルデータを取得する\n",
        "    d_batch = d_train[batch_mask]\n",
        "\n",
        "\n",
        "    \n",
        "    z1, y = forward(network, x_batch)\n",
        "    grad = backward(x_batch, d_batch, z1, y)\n",
        "\n",
        "    if (i+1)%plot_interval==0:\n",
        "        accr_test = accuracy(x_test, d_test)\n",
        "        accuracies_test.append(accr_test)\n",
        "        \n",
        "        accr_train = accuracy(x_batch, d_batch)\n",
        "        accuracies_train.append(accr_train)\n",
        "\n",
        "        print('Generation: ' + str(i+1) + '. 正答率(トレーニング) = ' + str(accr_train))\n",
        "        print('                : ' + str(i+1) + '. 正答率(テスト) = ' + str(accr_test))\n",
        "\n",
        "    # パラメータに勾配適用\n",
        "    for key in ('W1', 'W2', 'b1', 'b2'):\n",
        "        network[key]  -= learning_rate * grad[key]\n",
        "\n",
        "\n",
        "lists = range(0, iters_num, plot_interval)\n",
        "plt.plot(lists, accuracies_train, label=\"training set\")\n",
        "plt.plot(lists, accuracies_test,  label=\"test set\")\n",
        "plt.legend(loc=\"lower right\")\n",
        "plt.title(\"正答率\")\n",
        "# グラフの表示\n",
        "plt.show()"
      ],
      "execution_count": 3,
      "outputs": [
        {
          "output_type": "stream",
          "text": [
            "データ読み込み完了\n",
            "Generation: 10. 正答率(トレーニング) = 0.31\n",
            "                : 10. 正答率(テスト) = 0.2479\n",
            "Generation: 20. 正答率(トレーニング) = 0.18\n",
            "                : 20. 正答率(テスト) = 0.1318\n",
            "Generation: 30. 正答率(トレーニング) = 0.17\n",
            "                : 30. 正答率(テスト) = 0.2394\n",
            "Generation: 40. 正答率(トレーニング) = 0.5\n",
            "                : 40. 正答率(テスト) = 0.5352\n",
            "Generation: 50. 正答率(トレーニング) = 0.74\n",
            "                : 50. 正答率(テスト) = 0.5883\n",
            "Generation: 60. 正答率(トレーニング) = 0.63\n",
            "                : 60. 正答率(テスト) = 0.5232\n",
            "Generation: 70. 正答率(トレーニング) = 0.59\n",
            "                : 70. 正答率(テスト) = 0.6023\n",
            "Generation: 80. 正答率(トレーニング) = 0.68\n",
            "                : 80. 正答率(テスト) = 0.6987\n",
            "Generation: 90. 正答率(トレーニング) = 0.79\n",
            "                : 90. 正答率(テスト) = 0.6556\n",
            "Generation: 100. 正答率(トレーニング) = 0.74\n",
            "                : 100. 正答率(テスト) = 0.7341\n",
            "Generation: 110. 正答率(トレーニング) = 0.74\n",
            "                : 110. 正答率(テスト) = 0.7222\n",
            "Generation: 120. 正答率(トレーニング) = 0.74\n",
            "                : 120. 正答率(テスト) = 0.7556\n",
            "Generation: 130. 正答率(トレーニング) = 0.77\n",
            "                : 130. 正答率(テスト) = 0.7875\n",
            "Generation: 140. 正答率(トレーニング) = 0.77\n",
            "                : 140. 正答率(テスト) = 0.7933\n",
            "Generation: 150. 正答率(トレーニング) = 0.81\n",
            "                : 150. 正答率(テスト) = 0.7785\n",
            "Generation: 160. 正答率(トレーニング) = 0.82\n",
            "                : 160. 正答率(テスト) = 0.8256\n",
            "Generation: 170. 正答率(トレーニング) = 0.79\n",
            "                : 170. 正答率(テスト) = 0.836\n",
            "Generation: 180. 正答率(トレーニング) = 0.86\n",
            "                : 180. 正答率(テスト) = 0.832\n",
            "Generation: 190. 正答率(トレーニング) = 0.81\n",
            "                : 190. 正答率(テスト) = 0.8436\n",
            "Generation: 200. 正答率(トレーニング) = 0.82\n",
            "                : 200. 正答率(テスト) = 0.8505\n",
            "Generation: 210. 正答率(トレーニング) = 0.84\n",
            "                : 210. 正答率(テスト) = 0.8564\n",
            "Generation: 220. 正答率(トレーニング) = 0.79\n",
            "                : 220. 正答率(テスト) = 0.863\n",
            "Generation: 230. 正答率(トレーニング) = 0.89\n",
            "                : 230. 正答率(テスト) = 0.8641\n",
            "Generation: 240. 正答率(トレーニング) = 0.84\n",
            "                : 240. 正答率(テスト) = 0.865\n",
            "Generation: 250. 正答率(トレーニング) = 0.81\n",
            "                : 250. 正答率(テスト) = 0.8728\n",
            "Generation: 260. 正答率(トレーニング) = 0.84\n",
            "                : 260. 正答率(テスト) = 0.8768\n",
            "Generation: 270. 正答率(トレーニング) = 0.9\n",
            "                : 270. 正答率(テスト) = 0.8769\n",
            "Generation: 280. 正答率(トレーニング) = 0.86\n",
            "                : 280. 正答率(テスト) = 0.8761\n",
            "Generation: 290. 正答率(トレーニング) = 0.87\n",
            "                : 290. 正答率(テスト) = 0.8781\n",
            "Generation: 300. 正答率(トレーニング) = 0.87\n",
            "                : 300. 正答率(テスト) = 0.8794\n",
            "Generation: 310. 正答率(トレーニング) = 0.92\n",
            "                : 310. 正答率(テスト) = 0.8855\n",
            "Generation: 320. 正答率(トレーニング) = 0.91\n",
            "                : 320. 正答率(テスト) = 0.8836\n",
            "Generation: 330. 正答率(トレーニング) = 0.78\n",
            "                : 330. 正答率(テスト) = 0.8851\n",
            "Generation: 340. 正答率(トレーニング) = 0.89\n",
            "                : 340. 正答率(テスト) = 0.8864\n",
            "Generation: 350. 正答率(トレーニング) = 0.91\n",
            "                : 350. 正答率(テスト) = 0.8904\n",
            "Generation: 360. 正答率(トレーニング) = 0.94\n",
            "                : 360. 正答率(テスト) = 0.8907\n",
            "Generation: 370. 正答率(トレーニング) = 0.86\n",
            "                : 370. 正答率(テスト) = 0.8899\n",
            "Generation: 380. 正答率(トレーニング) = 0.93\n",
            "                : 380. 正答率(テスト) = 0.8903\n",
            "Generation: 390. 正答率(トレーニング) = 0.91\n",
            "                : 390. 正答率(テスト) = 0.8918\n",
            "Generation: 400. 正答率(トレーニング) = 0.89\n",
            "                : 400. 正答率(テスト) = 0.8944\n",
            "Generation: 410. 正答率(トレーニング) = 0.88\n",
            "                : 410. 正答率(テスト) = 0.8924\n",
            "Generation: 420. 正答率(トレーニング) = 0.9\n",
            "                : 420. 正答率(テスト) = 0.896\n",
            "Generation: 430. 正答率(トレーニング) = 0.9\n",
            "                : 430. 正答率(テスト) = 0.8974\n",
            "Generation: 440. 正答率(トレーニング) = 0.89\n",
            "                : 440. 正答率(テスト) = 0.8993\n",
            "Generation: 450. 正答率(トレーニング) = 0.9\n",
            "                : 450. 正答率(テスト) = 0.9009\n",
            "Generation: 460. 正答率(トレーニング) = 0.89\n",
            "                : 460. 正答率(テスト) = 0.9008\n",
            "Generation: 470. 正答率(トレーニング) = 0.91\n",
            "                : 470. 正答率(テスト) = 0.8985\n",
            "Generation: 480. 正答率(トレーニング) = 0.91\n",
            "                : 480. 正答率(テスト) = 0.9022\n",
            "Generation: 490. 正答率(トレーニング) = 0.97\n",
            "                : 490. 正答率(テスト) = 0.9031\n",
            "Generation: 500. 正答率(トレーニング) = 0.84\n",
            "                : 500. 正答率(テスト) = 0.9021\n",
            "Generation: 510. 正答率(トレーニング) = 0.89\n",
            "                : 510. 正答率(テスト) = 0.9029\n",
            "Generation: 520. 正答率(トレーニング) = 0.9\n",
            "                : 520. 正答率(テスト) = 0.8982\n",
            "Generation: 530. 正答率(トレーニング) = 0.9\n",
            "                : 530. 正答率(テスト) = 0.9029\n",
            "Generation: 540. 正答率(トレーニング) = 0.91\n",
            "                : 540. 正答率(テスト) = 0.9001\n",
            "Generation: 550. 正答率(トレーニング) = 0.92\n",
            "                : 550. 正答率(テスト) = 0.9074\n",
            "Generation: 560. 正答率(トレーニング) = 0.98\n",
            "                : 560. 正答率(テスト) = 0.904\n",
            "Generation: 570. 正答率(トレーニング) = 0.94\n",
            "                : 570. 正答率(テスト) = 0.9059\n",
            "Generation: 580. 正答率(トレーニング) = 0.91\n",
            "                : 580. 正答率(テスト) = 0.9055\n",
            "Generation: 590. 正答率(トレーニング) = 0.86\n",
            "                : 590. 正答率(テスト) = 0.9032\n",
            "Generation: 600. 正答率(トレーニング) = 0.91\n",
            "                : 600. 正答率(テスト) = 0.9088\n",
            "Generation: 610. 正答率(トレーニング) = 0.87\n",
            "                : 610. 正答率(テスト) = 0.9064\n",
            "Generation: 620. 正答率(トレーニング) = 0.93\n",
            "                : 620. 正答率(テスト) = 0.9066\n",
            "Generation: 630. 正答率(トレーニング) = 0.9\n",
            "                : 630. 正答率(テスト) = 0.9062\n",
            "Generation: 640. 正答率(トレーニング) = 0.92\n",
            "                : 640. 正答率(テスト) = 0.9091\n",
            "Generation: 650. 正答率(トレーニング) = 0.94\n",
            "                : 650. 正答率(テスト) = 0.9083\n",
            "Generation: 660. 正答率(トレーニング) = 0.91\n",
            "                : 660. 正答率(テスト) = 0.9081\n",
            "Generation: 670. 正答率(トレーニング) = 0.88\n",
            "                : 670. 正答率(テスト) = 0.9087\n",
            "Generation: 680. 正答率(トレーニング) = 0.94\n",
            "                : 680. 正答率(テスト) = 0.9102\n",
            "Generation: 690. 正答率(トレーニング) = 0.84\n",
            "                : 690. 正答率(テスト) = 0.908\n",
            "Generation: 700. 正答率(トレーニング) = 0.95\n",
            "                : 700. 正答率(テスト) = 0.9119\n",
            "Generation: 710. 正答率(トレーニング) = 0.91\n",
            "                : 710. 正答率(テスト) = 0.9115\n",
            "Generation: 720. 正答率(トレーニング) = 0.91\n",
            "                : 720. 正答率(テスト) = 0.9147\n",
            "Generation: 730. 正答率(トレーニング) = 0.92\n",
            "                : 730. 正答率(テスト) = 0.9133\n",
            "Generation: 740. 正答率(トレーニング) = 0.92\n",
            "                : 740. 正答率(テスト) = 0.9133\n",
            "Generation: 750. 正答率(トレーニング) = 0.91\n",
            "                : 750. 正答率(テスト) = 0.9139\n",
            "Generation: 760. 正答率(トレーニング) = 0.89\n",
            "                : 760. 正答率(テスト) = 0.9114\n",
            "Generation: 770. 正答率(トレーニング) = 0.97\n",
            "                : 770. 正答率(テスト) = 0.9123\n",
            "Generation: 780. 正答率(トレーニング) = 0.91\n",
            "                : 780. 正答率(テスト) = 0.912\n",
            "Generation: 790. 正答率(トレーニング) = 0.89\n",
            "                : 790. 正答率(テスト) = 0.9149\n",
            "Generation: 800. 正答率(トレーニング) = 0.91\n",
            "                : 800. 正答率(テスト) = 0.9098\n",
            "Generation: 810. 正答率(トレーニング) = 0.91\n",
            "                : 810. 正答率(テスト) = 0.9131\n",
            "Generation: 820. 正答率(トレーニング) = 0.9\n",
            "                : 820. 正答率(テスト) = 0.9137\n",
            "Generation: 830. 正答率(トレーニング) = 0.92\n",
            "                : 830. 正答率(テスト) = 0.9128\n",
            "Generation: 840. 正答率(トレーニング) = 0.93\n",
            "                : 840. 正答率(テスト) = 0.9137\n",
            "Generation: 850. 正答率(トレーニング) = 0.93\n",
            "                : 850. 正答率(テスト) = 0.9157\n",
            "Generation: 860. 正答率(トレーニング) = 0.92\n",
            "                : 860. 正答率(テスト) = 0.9148\n",
            "Generation: 870. 正答率(トレーニング) = 0.89\n",
            "                : 870. 正答率(テスト) = 0.9136\n",
            "Generation: 880. 正答率(トレーニング) = 0.87\n",
            "                : 880. 正答率(テスト) = 0.9153\n",
            "Generation: 890. 正答率(トレーニング) = 0.9\n",
            "                : 890. 正答率(テスト) = 0.9179\n",
            "Generation: 900. 正答率(トレーニング) = 0.93\n",
            "                : 900. 正答率(テスト) = 0.9146\n",
            "Generation: 910. 正答率(トレーニング) = 0.9\n",
            "                : 910. 正答率(テスト) = 0.915\n",
            "Generation: 920. 正答率(トレーニング) = 0.92\n",
            "                : 920. 正答率(テスト) = 0.9154\n",
            "Generation: 930. 正答率(トレーニング) = 0.89\n",
            "                : 930. 正答率(テスト) = 0.9175\n",
            "Generation: 940. 正答率(トレーニング) = 0.92\n",
            "                : 940. 正答率(テスト) = 0.9169\n",
            "Generation: 950. 正答率(トレーニング) = 0.91\n",
            "                : 950. 正答率(テスト) = 0.9173\n",
            "Generation: 960. 正答率(トレーニング) = 0.91\n",
            "                : 960. 正答率(テスト) = 0.9194\n",
            "Generation: 970. 正答率(トレーニング) = 0.92\n",
            "                : 970. 正答率(テスト) = 0.9169\n",
            "Generation: 980. 正答率(トレーニング) = 0.92\n",
            "                : 980. 正答率(テスト) = 0.9178\n",
            "Generation: 990. 正答率(トレーニング) = 0.92\n",
            "                : 990. 正答率(テスト) = 0.9139\n",
            "Generation: 1000. 正答率(トレーニング) = 0.91\n",
            "                : 1000. 正答率(テスト) = 0.9166\n"
          ],
          "name": "stdout"
        },
        {
          "output_type": "stream",
          "text": [
            "/usr/local/lib/python3.7/dist-packages/matplotlib/backends/backend_agg.py:214: RuntimeWarning: Glyph 27491 missing from current font.\n",
            "  font.set_text(s, 0.0, flags=flags)\n",
            "/usr/local/lib/python3.7/dist-packages/matplotlib/backends/backend_agg.py:214: RuntimeWarning: Glyph 31572 missing from current font.\n",
            "  font.set_text(s, 0.0, flags=flags)\n",
            "/usr/local/lib/python3.7/dist-packages/matplotlib/backends/backend_agg.py:214: RuntimeWarning: Glyph 29575 missing from current font.\n",
            "  font.set_text(s, 0.0, flags=flags)\n",
            "/usr/local/lib/python3.7/dist-packages/matplotlib/backends/backend_agg.py:183: RuntimeWarning: Glyph 27491 missing from current font.\n",
            "  font.set_text(s, 0, flags=flags)\n",
            "/usr/local/lib/python3.7/dist-packages/matplotlib/backends/backend_agg.py:183: RuntimeWarning: Glyph 31572 missing from current font.\n",
            "  font.set_text(s, 0, flags=flags)\n",
            "/usr/local/lib/python3.7/dist-packages/matplotlib/backends/backend_agg.py:183: RuntimeWarning: Glyph 29575 missing from current font.\n",
            "  font.set_text(s, 0, flags=flags)\n"
          ],
          "name": "stderr"
        },
        {
          "output_type": "display_data",
          "data": {
            "image/png": "[encoded data removed]",
            "text/plain": [
              "<Figure size 432x288 with 1 Axes>"
            ]
          },
          "metadata": {
            "tags": [],
            "needs_background": "light"
          }
        }
      ]
    },
    {
      "cell_type": "markdown",
      "metadata": {
        "id": "Z632ohGD0EGD"
      },
      "source": [
        "MNISTデータの誤差逆伝搬法を用いた学習とその結果を確認。約200epochで精度が90%を超える。"
      ]
    },
    {
      "cell_type": "markdown",
      "metadata": {
        "id": "qqJtwzuDkNRk"
      },
      "source": [
        "##確認テスト"
      ]
    },
    {
      "cell_type": "markdown",
      "metadata": {
        "id": "RkYU6d_YwWR3"
      },
      "source": [
        "・誤差逆伝播法では不要な再帰的処理を避ける事が出来る。既に行った計算結果を保持しているソースコードを抽出せよ。"
      ]
    },
    {
      "cell_type": "markdown",
      "metadata": {
        "id": "b9RMDEm6xwYd"
      },
      "source": [
        "解答  \n",
        "\n",
        "```\n",
        "# 出力層でのデルタ\n",
        "delta2 = functions.d_mean_squared_error(d, y)\n",
        "```\n",
        "\n"
      ]
    },
    {
      "cell_type": "markdown",
      "metadata": {
        "id": "hrRkHvi6wUb_"
      },
      "source": [
        "・以下2つの数式に該当するソースコードを探せ  \n",
        "⑴  \n",
        "![image.png](data:image/png;base64,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)\n",
        "\n",
        "⑵  \n",
        "![image.png](data:image/png;base64,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)"
      ]
    },
    {
      "cell_type": "markdown",
      "metadata": {
        "id": "rhf1Ckr7xxXN"
      },
      "source": [
        "解答  \n",
        "\n",
        "⑴\n",
        "\n",
        "```\n",
        "delta1 = np.dot(delta2, W2.T) * functions.d_sigmoid(z1)\n",
        "```\n",
        "⑵\n",
        "\n",
        "```\n",
        "grad['W1'] = np.dot(x.T, delta1)\n",
        "```\n",
        "\n",
        "\n",
        "※⑴⑵ともに、誤差逆伝搬の関数から抜粋\n",
        "```\n",
        "# 誤差逆伝播\n",
        "def backward(x, d, z1, y):\n",
        "    # print(\"\\n##### 誤差逆伝播開始 #####\")    \n",
        "\n",
        "    grad = {}\n",
        "    \n",
        "    W1, W2 = network['W1'], network['W2']\n",
        "    b1, b2 = network['b1'], network['b2']\n",
        "\n",
        "    # 出力層でのデルタ\n",
        "    delta2 = functions.d_mean_squared_error(d, y)\n",
        "    # b2の勾配\n",
        "    grad['b2'] = np.sum(delta2, axis=0)\n",
        "    # W2の勾配\n",
        "    grad['W2'] = np.dot(z1.T, delta2)\n",
        "    # 中間層でのデルタ  \n",
        "    #delta1 = np.dot(delta2, W2.T) * functions.d_relu(z1)\n",
        "\n",
        "    ## 試してみよう\n",
        "    delta1 = np.dot(delta2, W2.T) * functions.d_sigmoid(z1)\n",
        "\n",
        "    delta1 = delta1[np.newaxis, :]\n",
        "    # b1の勾配\n",
        "    grad['b1'] = np.sum(delta1, axis=0)\n",
        "    x = x[np.newaxis, :]\n",
        "    # W1の勾配\n",
        "    grad['W1'] = np.dot(x.T, delta1)\n",
        "    \n",
        "    # print_vec(\"偏微分_重み1\", grad[\"W1\"])\n",
        "    # print_vec(\"偏微分_重み2\", grad[\"W2\"])\n",
        "    # print_vec(\"偏微分_バイアス1\", grad[\"b1\"])\n",
        "    # print_vec(\"偏微分_バイアス2\", grad[\"b2\"])\n",
        "\n",
        "    return grad\n",
        "```\n",
        "\n",
        "\n"
      ]
    }
  ]
}