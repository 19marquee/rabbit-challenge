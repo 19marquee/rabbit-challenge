{
  "nbformat": 4,
  "nbformat_minor": 0,
  "metadata": {
    "colab": {
      "name": "day1section4.ipynb",
      "provenance": [],
      "collapsed_sections": [],
      "authorship_tag": "ABX9TyOryJA6NNiJ6SHAQvEY7A8k",
      "include_colab_link": true
    },
    "kernelspec": {
      "name": "python3",
      "display_name": "Python 3"
    },
    "language_info": {
      "name": "python"
    }
  },
  "cells": [
    {
      "cell_type": "markdown",
      "metadata": {
        "id": "view-in-github",
        "colab_type": "text"
      },
      "source": [
        "<a href=\"https://colab.research.google.com/github/19marquee/rabbit-challenge/blob/main/deep-learning/day1section4.ipynb\" target=\"_parent\"><img src=\"https://colab.research.google.com/assets/colab-badge.svg\" alt=\"Open In Colab\"/></a>"
      ]
    },
    {
      "cell_type": "markdown",
      "metadata": {
        "id": "tRvTMNra91cL"
      },
      "source": [
        "# レポート 深層学習day1/Section4:勾配降下法\n"
      ]
    },
    {
      "cell_type": "markdown",
      "metadata": {
        "id": "8zBbJNUdCNmD"
      },
      "source": [
        "## 100文字以内の要点のまとめ"
      ]
    },
    {
      "cell_type": "markdown",
      "metadata": {
        "id": "rqLDjSvkCN5A"
      },
      "source": [
        "- 勾配降下法：ニューラルネットワークを学習し、パラメータを最適化する手法。\n",
        "- ある重みのときの誤差があり、重みを調整して、誤差が最小になるような重み（やバイアス）をみつける。\n",
        "- 学習率が大きすぎると、最小値にたどり着かず（収束せず）、発散してしまう。逆に小さすぎると、収束するまでに時間がかかる。また、局所最小から抜け出すことができない。\n",
        "- 代表的な最適化アルゴリズムとして、Adam、Momentum、Adagrad等がある。\n",
        "- 確率勾配降下法（SGD）は、ランダムに抽出したサンプルの誤差を用いる。\n",
        "- ミニバッチ勾配降下法は、ランダムに分割したデータの集まり（ミニバッチ）に属するサンプルの平均誤差を用いる。SGDのメリットを損なわず、計算資源を有効活用できる。"
      ]
    },
    {
      "cell_type": "markdown",
      "metadata": {
        "id": "rU616UZdD9Cs"
      },
      "source": [
        "##実装演習結果"
      ]
    },
    {
      "cell_type": "markdown",
      "metadata": {
        "id": "8cNl2QA_Rnv5"
      },
      "source": [
        "#### 準備"
      ]
    },
    {
      "cell_type": "markdown",
      "metadata": {
        "id": "YkwjN1jNVAYy"
      },
      "source": [
        "#### Googleドライブのマウント"
      ]
    },
    {
      "cell_type": "code",
      "metadata": {
        "id": "pvFXpiH3EVC1",
        "colab": {
          "base_uri": "https://localhost:8080/"
        },
        "outputId": "503f8def-1710-4716-c67f-ea51045f6a37"
      },
      "source": [
        "from google.colab import drive\n",
        "drive.mount('/content/drive')"
      ],
      "execution_count": 1,
      "outputs": [
        {
          "output_type": "stream",
          "text": [
            "Mounted at /content/drive\n"
          ],
          "name": "stdout"
        }
      ]
    },
    {
      "cell_type": "markdown",
      "metadata": {
        "id": "3Ub7RYdeY6pK"
      },
      "source": [
        "#### sys.pathの設定"
      ]
    },
    {
      "cell_type": "markdown",
      "metadata": {
        "id": "oql7L19rEsWi"
      },
      "source": [
        "以下では，Googleドライブのマイドライブ直下にDNN_codeフォルダを置くことを仮定しています．必要に応じて，パスを変更してください．"
      ]
    },
    {
      "cell_type": "code",
      "metadata": {
        "id": "7Ic2JzkvFX59"
      },
      "source": [
        "import sys\n",
        "sys.path.append('/content/drive/My Drive/DNN_code')"
      ],
      "execution_count": 2,
      "outputs": []
    },
    {
      "cell_type": "markdown",
      "metadata": {
        "id": "k5L0AWliZYng"
      },
      "source": [
        "#### importと関数定義"
      ]
    },
    {
      "cell_type": "code",
      "metadata": {
        "id": "83JsTOf6hQWi"
      },
      "source": [
        "import numpy as np\n",
        "from common import functions\n",
        "import matplotlib.pyplot as plt\n",
        "\n",
        "def print_vec(text, vec):\n",
        "    print(\"*** \" + text + \" ***\")\n",
        "    print(vec)\n",
        "    #print(\"shape: \" + str(x.shape))\n",
        "    print(\"\")"
      ],
      "execution_count": 3,
      "outputs": []
    },
    {
      "cell_type": "markdown",
      "metadata": {
        "id": "isK70HrMhid9"
      },
      "source": [
        "#### 確率勾配降下法"
      ]
    },
    {
      "cell_type": "code",
      "metadata": {
        "id": "MvHIzue3hQWm",
        "colab": {
          "base_uri": "https://localhost:8080/",
          "height": 282
        },
        "outputId": "56486a54-46ce-4556-c46c-2f055c299036"
      },
      "source": [
        "# サンプルとする関数\n",
        "#yの値を予想するAI\n",
        "\n",
        "def f(x):\n",
        "    y = 3 * x[0] + 2 * x[1]\n",
        "    return y\n",
        "\n",
        "# 初期設定\n",
        "def init_network():\n",
        "    # print(\"##### ネットワークの初期化 #####\")\n",
        "    network = {}\n",
        "    nodesNum = 10\n",
        "    network['W1'] = np.random.randn(2, nodesNum)\n",
        "    network['W2'] = np.random.randn(nodesNum)\n",
        "    network['b1'] = np.random.randn(nodesNum)\n",
        "    network['b2'] = np.random.randn()\n",
        "\n",
        "    # print_vec(\"重み1\", network['W1'])\n",
        "    # print_vec(\"重み2\", network['W2'])\n",
        "    # print_vec(\"バイアス1\", network['b1'])\n",
        "    # print_vec(\"バイアス2\", network['b2'])\n",
        "\n",
        "    return network\n",
        "\n",
        "# 順伝播\n",
        "def forward(network, x):\n",
        "    # print(\"##### 順伝播開始 #####\")\n",
        "    \n",
        "    W1, W2 = network['W1'], network['W2']\n",
        "    b1, b2 = network['b1'], network['b2']\n",
        "    u1 = np.dot(x, W1) + b1\n",
        "    z1 = functions.relu(u1)\n",
        "    \n",
        "    ## 試してみよう\n",
        "    #z1 = functions.sigmoid(u1)\n",
        "    \n",
        "    u2 = np.dot(z1, W2) + b2\n",
        "    y = u2\n",
        "\n",
        "    # print_vec(\"総入力1\", u1)\n",
        "    # print_vec(\"中間層出力1\", z1)\n",
        "    # print_vec(\"総入力2\", u2)\n",
        "    # print_vec(\"出力1\", y)\n",
        "    # print(\"出力合計: \" + str(np.sum(y)))    \n",
        "    \n",
        "    return z1, y\n",
        "\n",
        "# 誤差逆伝播\n",
        "def backward(x, d, z1, y):\n",
        "    # print(\"\\n##### 誤差逆伝播開始 #####\")    \n",
        "\n",
        "    grad = {}\n",
        "    \n",
        "    W1, W2 = network['W1'], network['W2']\n",
        "    b1, b2 = network['b1'], network['b2']\n",
        "\n",
        "    # 出力層でのデルタ\n",
        "    delta2 = functions.d_mean_squared_error(d, y)\n",
        "    # b2の勾配\n",
        "    grad['b2'] = np.sum(delta2, axis=0)\n",
        "    # W2の勾配\n",
        "    grad['W2'] = np.dot(z1.T, delta2)\n",
        "    # 中間層でのデルタ\n",
        "    #delta1 = np.dot(delta2, W2.T) * functions.d_relu(z1)\n",
        "\n",
        "    ## 試してみよう\n",
        "    delta1 = np.dot(delta2, W2.T) * functions.d_sigmoid(z1)\n",
        "\n",
        "    delta1 = delta1[np.newaxis, :]\n",
        "    # b1の勾配\n",
        "    grad['b1'] = np.sum(delta1, axis=0)\n",
        "    x = x[np.newaxis, :]\n",
        "    # W1の勾配\n",
        "    grad['W1'] = np.dot(x.T, delta1)\n",
        "    \n",
        "    # print_vec(\"偏微分_重み1\", grad[\"W1\"])\n",
        "    # print_vec(\"偏微分_重み2\", grad[\"W2\"])\n",
        "    # print_vec(\"偏微分_バイアス1\", grad[\"b1\"])\n",
        "    # print_vec(\"偏微分_バイアス2\", grad[\"b2\"])\n",
        "\n",
        "    return grad\n",
        "\n",
        "# サンプルデータを作成\n",
        "data_sets_size = 100000\n",
        "data_sets = [0 for i in range(data_sets_size)]\n",
        "\n",
        "for i in range(data_sets_size):\n",
        "    data_sets[i] = {}\n",
        "    # ランダムな値を設定\n",
        "    data_sets[i]['x'] = np.random.rand(2)\n",
        "    \n",
        "    ## 試してみよう_入力値の設定\n",
        "    # data_sets[i]['x'] = np.random.rand(2) * 10 -5 # -5〜5のランダム数値\n",
        "    \n",
        "    # 目標出力を設定\n",
        "    data_sets[i]['d'] = f(data_sets[i]['x'])\n",
        "    \n",
        "losses = []\n",
        "# 学習率\n",
        "learning_rate = 0.07\n",
        "\n",
        "# 抽出数\n",
        "epoch = 1000\n",
        "\n",
        "# パラメータの初期化\n",
        "network = init_network()\n",
        "# データのランダム抽出\n",
        "random_datasets = np.random.choice(data_sets, epoch)\n",
        "\n",
        "# 勾配降下の繰り返し\n",
        "for dataset in random_datasets:\n",
        "    x, d = dataset['x'], dataset['d']\n",
        "    z1, y = forward(network, x)\n",
        "    grad = backward(x, d, z1, y)\n",
        "    # パラメータに勾配適用\n",
        "    for key in ('W1', 'W2', 'b1', 'b2'):\n",
        "        network[key]  -= learning_rate * grad[key]\n",
        "\n",
        "    # 誤差\n",
        "    loss = functions.mean_squared_error(d, y)\n",
        "    losses.append(loss)\n",
        "\n",
        "print(\"##### 結果表示 #####\")    \n",
        "lists = range(epoch)\n",
        "\n",
        "\n",
        "plt.plot(lists, losses, '.')\n",
        "# グラフの表示\n",
        "plt.show()"
      ],
      "execution_count": 4,
      "outputs": [
        {
          "output_type": "stream",
          "text": [
            "##### 結果表示 #####\n"
          ],
          "name": "stdout"
        },
        {
          "output_type": "display_data",
          "data": {
            "image/png": "[encoded data removed]",
            "text/plain": [
              "<Figure size 432x288 with 1 Axes>"
            ]
          },
          "metadata": {
            "tags": [],
            "needs_background": "light"
          }
        }
      ]
    },
    {
      "cell_type": "markdown",
      "metadata": {
        "id": "qPeSGcGTtCyZ"
      },
      "source": [
        "lossを最小化（0にする）ために勾配降下を確認。"
      ]
    },
    {
      "cell_type": "markdown",
      "metadata": {
        "id": "qqJtwzuDkNRk"
      },
      "source": [
        "##確認テスト"
      ]
    },
    {
      "cell_type": "markdown",
      "metadata": {
        "id": "JGAxjDedo6Eg"
      },
      "source": [
        "・以下の数式の該当するソースコードを探してみよう。  \n",
        "　左：重み更新の式、右：勾配の式  \n",
        "\n",
        "\n",
        "　　　 ![1_4.png](data:image/png;base64,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)"
      ]
    },
    {
      "cell_type": "markdown",
      "metadata": {
        "id": "yqmj7bzRPf7j"
      },
      "source": [
        "解答  \n",
        "(コード内の###に記載)\n",
        "\n",
        "```\n",
        "# 勾配降下の繰り返し\n",
        "for dataset in random_datasets:\n",
        "    x, d = dataset['x'], dataset['d']\n",
        "    z1, y = forward(network, x)\n",
        "    grad = backward(x, d, z1, y) ###勾配の式に該当\n",
        "    # パラメータに勾配適用\n",
        "    for key in ('W1', 'W2', 'b1', 'b2'):\n",
        "        network[key]  -= learning_rate * grad[key] ###重み更新の式に該当\n",
        "\n",
        "    # 誤差\n",
        "    loss = functions.mean_squared_error(d, y)\n",
        "    losses.append(loss)\n",
        "\n",
        "print(\"##### 結果表示 #####\")    \n",
        "lists = range(epoch)\n",
        "```\n",
        "\n"
      ]
    },
    {
      "cell_type": "markdown",
      "metadata": {
        "id": "mQK3JX9RM0vs"
      },
      "source": [
        "・オンライン学習とは何か　2行でまとめよ"
      ]
    },
    {
      "cell_type": "markdown",
      "metadata": {
        "id": "THpB-W3gQkLv"
      },
      "source": [
        "解答  \n",
        "オンライン学習とは、学習データが入ってくる度にその都度パラメータ（重みやバイアス）を更新しながら、学習を進めていく手法である。  \n",
        "対してバッチ学習は、一度にすべての学習データを使用して、パラメータ更新をまとめて行う手法である。"
      ]
    },
    {
      "cell_type": "markdown",
      "metadata": {
        "id": "pjFE9hLvM27r"
      },
      "source": [
        "・以下の数式の意味を図に書いて説明せよ。  \n",
        "\n",
        "　　　　　　　![1_4_2.png](data:image/png;base64,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)"
      ]
    },
    {
      "cell_type": "markdown",
      "metadata": {
        "id": "BWdXsBD9R94x"
      },
      "source": [
        "解答  \n",
        "\n",
        "![1_4_3.png](data:image/png;base64,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)"
      ]
    }
  ]
}