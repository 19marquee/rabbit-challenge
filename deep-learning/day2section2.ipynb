{
  "nbformat": 4,
  "nbformat_minor": 0,
  "metadata": {
    "colab": {
      "name": "day2section2.ipynb",
      "provenance": [],
      "collapsed_sections": [],
      "authorship_tag": "ABX9TyO1D+0TR54msaBp+FRCV7Tw",
      "include_colab_link": true
    },
    "kernelspec": {
      "name": "python3",
      "display_name": "Python 3"
    },
    "language_info": {
      "name": "python"
    }
  },
  "cells": [
    {
      "cell_type": "markdown",
      "metadata": {
        "id": "view-in-github",
        "colab_type": "text"
      },
      "source": [
        "<a href=\"https://colab.research.google.com/github/19marquee/rabbit-challenge/blob/main/deep-learning/day2section2.ipynb\" target=\"_parent\"><img src=\"https://colab.research.google.com/assets/colab-badge.svg\" alt=\"Open In Colab\"/></a>"
      ]
    },
    {
      "cell_type": "markdown",
      "metadata": {
        "id": "Qk3_ObZWYrx6"
      },
      "source": [
        "# レポート 深層学習day2/Section2:学習率最適化手法\n"
      ]
    },
    {
      "cell_type": "markdown",
      "metadata": {
        "id": "wGiX34MmYr6s"
      },
      "source": [
        "## 100文字以内の要点のまとめ\n"
      ]
    },
    {
      "cell_type": "markdown",
      "metadata": {
        "id": "8B1ee4edY6AC"
      },
      "source": [
        "- 学習率の値が大きすぎると、最適値にたどり着けずに発散してしまう、対して値が小さすぎると、収束するまでに時間がかかる\n",
        "- 学習率の設定指針として、初期の学習率を大きくして、徐々に小さくする、パラメータごとに学習率を可変にする、ことが挙げられる。\n",
        "- 代表的な最適化手法として、モメンタム、Adagrad、RMSProp、Adam等がある。"
      ]
    },
    {
      "cell_type": "markdown",
      "metadata": {
        "id": "FOlgTZKYY3nq"
      },
      "source": [
        "## 実装演習のファイル量、コード量が多いため、実装演習結果は、別ファイルに記載します"
      ]
    },
    {
      "cell_type": "markdown",
      "metadata": {
        "id": "iO10myiuY6b6"
      },
      "source": [
        "・day2section2_1.ipynb  \n",
        "・day2section2_2.ipynb  "
      ]
    },
    {
      "cell_type": "markdown",
      "metadata": {
        "id": "zmnNwj4KY_ei"
      },
      "source": [
        "##確認テスト"
      ]
    },
    {
      "cell_type": "markdown",
      "metadata": {
        "id": "ZxFHmyRYbduD"
      },
      "source": [
        "・モメンタム・AdaGrad・RMSPropの特徴をそれぞれ簡潔に説明せよ。"
      ]
    },
    {
      "cell_type": "markdown",
      "metadata": {
        "id": "3LNrg4L_bgKi"
      },
      "source": [
        "解答  \n",
        "\n",
        "モメンタム：局所的最適解にならず、大域的最適解に向かう。勾配の谷間についてから最も低い位置(最適値)に到達するまでの時間がはやい。\n",
        "AdaGrad：勾配の緩やかな斜面に対して、最適値に近づくことができる。鞍点問題を引き起こすことがある。  \n",
        "RMSProp：局所的最適解にならず、大域的最適解に向かう。ハイパーパラメータの調整が必要な場合が少ない。"
      ]
    }
  ]
}