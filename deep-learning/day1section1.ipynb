{
  "nbformat": 4,
  "nbformat_minor": 0,
  "metadata": {
    "colab": {
      "name": "day1section1.ipynb",
      "provenance": [],
      "collapsed_sections": [],
      "authorship_tag": "ABX9TyODEYiMrWRaAqYjURtc13Vw",
      "include_colab_link": true
    },
    "kernelspec": {
      "name": "python3",
      "display_name": "Python 3"
    },
    "language_info": {
      "name": "python"
    }
  },
  "cells": [
    {
      "cell_type": "markdown",
      "metadata": {
        "id": "view-in-github",
        "colab_type": "text"
      },
      "source": [
        "<a href=\"https://colab.research.google.com/github/19marquee/rabbit-challenge/blob/main/deep-learning/day1section1.ipynb\" target=\"_parent\"><img src=\"https://colab.research.google.com/assets/colab-badge.svg\" alt=\"Open In Colab\"/></a>"
      ]
    },
    {
      "cell_type": "markdown",
      "metadata": {
        "id": "tRvTMNra91cL"
      },
      "source": [
        "# レポート 深層学習day1/Section1:入力層～中間層\n"
      ]
    },
    {
      "cell_type": "markdown",
      "metadata": {
        "id": "8zBbJNUdCNmD"
      },
      "source": [
        "## 100文字以内の要点のまとめ"
      ]
    },
    {
      "cell_type": "markdown",
      "metadata": {
        "id": "rqLDjSvkCN5A"
      },
      "source": [
        "- 深層学習は、明示的なプログラムの代わりに多数の中間層を持つニューラルネットワークを用いて、入力値から目的とする出力値に変換する数学モデル（関数）を構築する手法。\n",
        "- 入力層の入力xに対して、重みwを掛け合わせ、バイアスbを足し合わせることで、総入力uを算出。uに活性化関数を適用し、zが出力される。\n",
        "- 入力、重みは、ベクトルや行列で表現して計算することができる。\n",
        "- ニューラルネットワークの学習は、重みw,バイアスbの最適化を行う。"
      ]
    },
    {
      "cell_type": "markdown",
      "metadata": {
        "id": "rU616UZdD9Cs"
      },
      "source": [
        "##実装演習結果"
      ]
    },
    {
      "cell_type": "markdown",
      "metadata": {
        "id": "8cNl2QA_Rnv5"
      },
      "source": [
        "#### 準備"
      ]
    },
    {
      "cell_type": "markdown",
      "metadata": {
        "id": "YkwjN1jNVAYy"
      },
      "source": [
        "#### Googleドライブのマウント"
      ]
    },
    {
      "cell_type": "code",
      "metadata": {
        "id": "pvFXpiH3EVC1",
        "colab": {
          "base_uri": "https://localhost:8080/"
        },
        "outputId": "ebce3dca-fab8-4475-b725-70444d80e254"
      },
      "source": [
        "from google.colab import drive\n",
        "drive.mount('/content/drive')"
      ],
      "execution_count": 1,
      "outputs": [
        {
          "output_type": "stream",
          "text": [
            "Mounted at /content/drive\n"
          ],
          "name": "stdout"
        }
      ]
    },
    {
      "cell_type": "markdown",
      "metadata": {
        "id": "3Ub7RYdeY6pK"
      },
      "source": [
        "#### sys.pathの設定"
      ]
    },
    {
      "cell_type": "markdown",
      "metadata": {
        "id": "oql7L19rEsWi"
      },
      "source": [
        "以下では，Googleドライブのマイドライブ直下にDNN_codeフォルダを置くことを仮定しています．必要に応じて，パスを変更してください．"
      ]
    },
    {
      "cell_type": "code",
      "metadata": {
        "id": "7Ic2JzkvFX59"
      },
      "source": [
        "import sys\n",
        "sys.path.append('/content/drive/My Drive/DNN_code')"
      ],
      "execution_count": 2,
      "outputs": []
    },
    {
      "cell_type": "markdown",
      "metadata": {
        "id": "k5L0AWliZYng"
      },
      "source": [
        "#### importと関数定義"
      ]
    },
    {
      "cell_type": "code",
      "metadata": {
        "id": "R-FDEiMPe3eE"
      },
      "source": [
        "import numpy as np\n",
        "from common import functions\n",
        "\n",
        "def print_vec(text, vec):\n",
        "    print(\"*** \" + text + \" ***\")\n",
        "    print(vec)\n",
        "    #print(\"shape: \" + str(x.shape))\n",
        "    print(\"\")\n"
      ],
      "execution_count": 3,
      "outputs": []
    },
    {
      "cell_type": "markdown",
      "metadata": {
        "id": "uqIgpdkPe5yR"
      },
      "source": [
        "#### 順伝播（単層・単ユニット）"
      ]
    },
    {
      "cell_type": "code",
      "metadata": {
        "scrolled": true,
        "id": "5nwFXP3le3eJ",
        "colab": {
          "base_uri": "https://localhost:8080/"
        },
        "outputId": "2e71d9eb-942a-42fe-f173-1fb56f2eaa9a"
      },
      "source": [
        "# 順伝播（単層・単ユニット）\n",
        "\n",
        "# 重み\n",
        "W = np.array([[0.1], [0.2]])\n",
        "\n",
        "## 試してみよう_配列の初期化\n",
        "#W = np.zeros(2)\n",
        "#W = np.ones(2)\n",
        "#W = np.random.rand(2)\n",
        "#W = np.random.randint(5, size=(2))\n",
        "\n",
        "print_vec(\"重み\", W)\n",
        "\n",
        "\n",
        "# バイアス\n",
        "b = 0.5\n",
        "\n",
        "## 試してみよう_数値の初期化\n",
        "#b = np.random.rand() # 0~1のランダム数値\n",
        "#b = np.random.rand() * 10 -5  # -5~5のランダム数値\n",
        "\n",
        "print_vec(\"バイアス\", b)\n",
        "\n",
        "# 入力値\n",
        "x = np.array([2, 3])\n",
        "print_vec(\"入力\", x)\n",
        "\n",
        "\n",
        "# 総入力\n",
        "u = np.dot(x, W) + b\n",
        "print_vec(\"総入力\", u)\n",
        "\n",
        "# 中間層出力\n",
        "z = functions.relu(u)\n",
        "print_vec(\"中間層出力\", z)\n"
      ],
      "execution_count": 4,
      "outputs": [
        {
          "output_type": "stream",
          "text": [
            "*** 重み ***\n",
            "[[0.1]\n",
            " [0.2]]\n",
            "\n",
            "*** バイアス ***\n",
            "0.5\n",
            "\n",
            "*** 入力 ***\n",
            "[2 3]\n",
            "\n",
            "*** 総入力 ***\n",
            "[1.3]\n",
            "\n",
            "*** 中間層出力 ***\n",
            "[1.3]\n",
            "\n"
          ],
          "name": "stdout"
        }
      ]
    },
    {
      "cell_type": "markdown",
      "metadata": {
        "id": "FpOvW2Ple-zS"
      },
      "source": [
        "#### 順伝播（単層・複数ユニット）\n"
      ]
    },
    {
      "cell_type": "code",
      "metadata": {
        "id": "kUxj9ZGWe3eL",
        "colab": {
          "base_uri": "https://localhost:8080/"
        },
        "outputId": "714b6dc9-a589-4f84-ae29-f769fcb62386"
      },
      "source": [
        "# 順伝播（単層・複数ユニット）\n",
        "\n",
        "# 重み\n",
        "W = np.array([\n",
        "    [0.1, 0.2, 0.3], \n",
        "    [0.2, 0.3, 0.4], \n",
        "    [0.3, 0.4, 0.5],\n",
        "    [0.4, 0.5, 0.6]\n",
        "])\n",
        "\n",
        "## 試してみよう_配列の初期化\n",
        "#W = np.zeros((4,3))\n",
        "#W = np.ones((4,3))\n",
        "#W = np.random.rand(4,3)\n",
        "#W = np.random.randint(5, size=(4,3))\n",
        "\n",
        "print_vec(\"重み\", W)\n",
        "\n",
        "# バイアス\n",
        "b = np.array([0.1, 0.2, 0.3])\n",
        "print_vec(\"バイアス\", b)\n",
        "\n",
        "# 入力値\n",
        "x = np.array([1.0, 5.0, 2.0, -1.0])\n",
        "print_vec(\"入力\", x)\n",
        "\n",
        "\n",
        "#  総入力\n",
        "u = np.dot(x, W) + b\n",
        "print_vec(\"総入力\", u)\n",
        "\n",
        "# 中間層出力\n",
        "z = functions.sigmoid(u)\n",
        "print_vec(\"中間層出力\", z)\n"
      ],
      "execution_count": 5,
      "outputs": [
        {
          "output_type": "stream",
          "text": [
            "*** 重み ***\n",
            "[[0.1 0.2 0.3]\n",
            " [0.2 0.3 0.4]\n",
            " [0.3 0.4 0.5]\n",
            " [0.4 0.5 0.6]]\n",
            "\n",
            "*** バイアス ***\n",
            "[0.1 0.2 0.3]\n",
            "\n",
            "*** 入力 ***\n",
            "[ 1.  5.  2. -1.]\n",
            "\n",
            "*** 総入力 ***\n",
            "[1.4 2.2 3. ]\n",
            "\n",
            "*** 中間層出力 ***\n",
            "[0.80218389 0.90024951 0.95257413]\n",
            "\n"
          ],
          "name": "stdout"
        }
      ]
    },
    {
      "cell_type": "markdown",
      "metadata": {
        "id": "75hN-MtofBBE"
      },
      "source": [
        "#### 順伝播（3層・複数ユニット）"
      ]
    },
    {
      "cell_type": "code",
      "metadata": {
        "id": "SrWWI-XXe3eO",
        "colab": {
          "base_uri": "https://localhost:8080/"
        },
        "outputId": "4989544a-b808-49f8-d7cd-f1480591a5ed"
      },
      "source": [
        "# 順伝播（3層・複数ユニット）\n",
        "\n",
        "# ウェイトとバイアスを設定\n",
        "# ネートワークを作成\n",
        "def init_network():\n",
        "    print(\"##### ネットワークの初期化 #####\")\n",
        "    network = {}\n",
        "    \n",
        "    #試してみよう\n",
        "    #_各パラメータのshapeを表示\n",
        "    #_ネットワークの初期値ランダム生成\n",
        "    \n",
        "    network['W1'] = np.array([\n",
        "        [0.1, 0.3, 0.5],\n",
        "        [0.2, 0.4, 0.6]\n",
        "    ])\n",
        "    network['W2'] = np.array([\n",
        "        [0.1, 0.4],\n",
        "        [0.2, 0.5],\n",
        "        [0.3, 0.6]\n",
        "    ])\n",
        "    network['W3'] = np.array([\n",
        "        [0.1, 0.3],\n",
        "        [0.2, 0.4]\n",
        "    ])\n",
        "    network['b1'] = np.array([0.1, 0.2, 0.3])\n",
        "    network['b2'] = np.array([0.1, 0.2])\n",
        "    network['b3'] = np.array([1, 2])\n",
        "\n",
        "    print_vec(\"重み1\", network['W1'] )\n",
        "    print_vec(\"重み2\", network['W2'] )\n",
        "    print_vec(\"重み3\", network['W3'] )\n",
        "    print_vec(\"バイアス1\", network['b1'] )\n",
        "    print_vec(\"バイアス2\", network['b2'] )\n",
        "    print_vec(\"バイアス3\", network['b3'] )\n",
        "\n",
        "    return network\n",
        "\n",
        "# プロセスを作成\n",
        "# x：入力値\n",
        "def forward(network, x):\n",
        "    \n",
        "    print(\"##### 順伝播開始 #####\")\n",
        "\n",
        "    W1, W2, W3 = network['W1'], network['W2'], network['W3']\n",
        "    b1, b2, b3 = network['b1'], network['b2'], network['b3']\n",
        "    \n",
        "    # 1層の総入力\n",
        "    u1 = np.dot(x, W1) + b1\n",
        "    \n",
        "    # 1層の総出力\n",
        "    z1 = functions.relu(u1)\n",
        "    \n",
        "    # 2層の総入力\n",
        "    u2 = np.dot(z1, W2) + b2\n",
        "    \n",
        "    # 2層の総出力\n",
        "    z2 = functions.relu(u2)\n",
        "\n",
        "    # 出力層の総入力\n",
        "    u3 = np.dot(z2, W3) + b3\n",
        "    \n",
        "    # 出力層の総出力\n",
        "    y = u3\n",
        "    \n",
        "    print_vec(\"総入力1\", u1)\n",
        "    print_vec(\"中間層出力1\", z1)\n",
        "    print_vec(\"総入力2\", u2)\n",
        "    print_vec(\"出力1\", z1)\n",
        "    print(\"出力合計: \" + str(np.sum(z1)))\n",
        "\n",
        "    return y, z1, z2\n",
        "\n",
        "# 入力値\n",
        "x = np.array([1., 2.])\n",
        "print_vec(\"入力\", x)\n",
        "\n",
        "# ネットワークの初期化\n",
        "network =  init_network()\n",
        "\n",
        "y, z1, z2 = forward(network, x)"
      ],
      "execution_count": 6,
      "outputs": [
        {
          "output_type": "stream",
          "text": [
            "*** 入力 ***\n",
            "[1. 2.]\n",
            "\n",
            "##### ネットワークの初期化 #####\n",
            "*** 重み1 ***\n",
            "[[0.1 0.3 0.5]\n",
            " [0.2 0.4 0.6]]\n",
            "\n",
            "*** 重み2 ***\n",
            "[[0.1 0.4]\n",
            " [0.2 0.5]\n",
            " [0.3 0.6]]\n",
            "\n",
            "*** 重み3 ***\n",
            "[[0.1 0.3]\n",
            " [0.2 0.4]]\n",
            "\n",
            "*** バイアス1 ***\n",
            "[0.1 0.2 0.3]\n",
            "\n",
            "*** バイアス2 ***\n",
            "[0.1 0.2]\n",
            "\n",
            "*** バイアス3 ***\n",
            "[1 2]\n",
            "\n",
            "##### 順伝播開始 #####\n",
            "*** 総入力1 ***\n",
            "[0.6 1.3 2. ]\n",
            "\n",
            "*** 中間層出力1 ***\n",
            "[0.6 1.3 2. ]\n",
            "\n",
            "*** 総入力2 ***\n",
            "[1.02 2.29]\n",
            "\n",
            "*** 出力1 ***\n",
            "[0.6 1.3 2. ]\n",
            "\n",
            "出力合計: 3.9\n"
          ],
          "name": "stdout"
        }
      ]
    },
    {
      "cell_type": "markdown",
      "metadata": {
        "id": "7Np6NwxQfFas"
      },
      "source": [
        "#### 多クラス分類（2-3-4ネットワーク）"
      ]
    },
    {
      "cell_type": "code",
      "metadata": {
        "id": "8uypKa5Re3eQ",
        "colab": {
          "base_uri": "https://localhost:8080/"
        },
        "outputId": "66296b96-d40a-4d30-f03f-02346853ffe0"
      },
      "source": [
        "# 多クラス分類\n",
        "# 2-3-4ネットワーク\n",
        "\n",
        "# ！試してみよう_ノードの構成を 3-5-4 に変更してみよう\n",
        "\n",
        "# ウェイトとバイアスを設定\n",
        "# ネートワークを作成\n",
        "def init_network():\n",
        "    print(\"##### ネットワークの初期化 #####\")\n",
        "\n",
        "    #試してみよう\n",
        "    #_各パラメータのshapeを表示\n",
        "    #_ネットワークの初期値ランダム生成\n",
        "\n",
        "    network = {}\n",
        "    network['W1'] = np.array([\n",
        "        [0.1, 0.3, 0.5],\n",
        "        [0.2, 0.4, 0.6]\n",
        "    ])\n",
        "    network['W2'] = np.array([\n",
        "        [0.1, 0.4, 0.7, 1.0],\n",
        "        [0.2, 0.5, 0.8, 1.1],\n",
        "        [0.3, 0.6, 0.9, 1.2]\n",
        "    ])\n",
        "    network['b1'] = np.array([0.1, 0.2, 0.3])\n",
        "    network['b2'] = np.array([0.1, 0.2, 0.3, 0.4])\n",
        "    \n",
        "    print_vec(\"重み1\", network['W1'] )\n",
        "    print_vec(\"重み2\", network['W2'] )\n",
        "    print_vec(\"バイアス1\", network['b1'] )\n",
        "    print_vec(\"バイアス2\", network['b2'] )\n",
        "\n",
        "    return network\n",
        "\n",
        "# プロセスを作成\n",
        "# x：入力値\n",
        "def forward(network, x):\n",
        "    \n",
        "    print(\"##### 順伝播開始 #####\")\n",
        "    W1, W2 = network['W1'], network['W2']\n",
        "    b1, b2 = network['b1'], network['b2']\n",
        "    \n",
        "    # 1層の総入力\n",
        "    u1 = np.dot(x, W1) + b1\n",
        "\n",
        "    # 1層の総出力\n",
        "    z1 = functions.relu(u1)\n",
        "\n",
        "    # 2層の総入力\n",
        "    u2 = np.dot(z1, W2) + b2\n",
        "    \n",
        "    # 出力値\n",
        "    y = functions.softmax(u2)\n",
        "    \n",
        "    print_vec(\"総入力1\", u1)\n",
        "    print_vec(\"中間層出力1\", z1)\n",
        "    print_vec(\"総入力2\", u2)\n",
        "    print_vec(\"出力1\", y)\n",
        "    print(\"出力合計: \" + str(np.sum(y)))\n",
        "        \n",
        "    return y, z1\n",
        "\n",
        "## 事前データ\n",
        "# 入力値\n",
        "x = np.array([1., 2.])\n",
        "\n",
        "# 目標出力\n",
        "d = np.array([0, 0, 0, 1])\n",
        "\n",
        "# ネットワークの初期化\n",
        "network =  init_network()\n",
        "\n",
        "# 出力\n",
        "y, z1 = forward(network, x)\n",
        "\n",
        "# 誤差\n",
        "loss = functions.cross_entropy_error(d, y)\n",
        "\n",
        "## 表示\n",
        "print(\"\\n##### 結果表示 #####\")\n",
        "print_vec(\"出力\", y)\n",
        "print_vec(\"訓練データ\", d)\n",
        "print_vec(\"誤差\",  loss)\n",
        "\n"
      ],
      "execution_count": 7,
      "outputs": [
        {
          "output_type": "stream",
          "text": [
            "##### ネットワークの初期化 #####\n",
            "*** 重み1 ***\n",
            "[[0.1 0.3 0.5]\n",
            " [0.2 0.4 0.6]]\n",
            "\n",
            "*** 重み2 ***\n",
            "[[0.1 0.4 0.7 1. ]\n",
            " [0.2 0.5 0.8 1.1]\n",
            " [0.3 0.6 0.9 1.2]]\n",
            "\n",
            "*** バイアス1 ***\n",
            "[0.1 0.2 0.3]\n",
            "\n",
            "*** バイアス2 ***\n",
            "[0.1 0.2 0.3 0.4]\n",
            "\n",
            "##### 順伝播開始 #####\n",
            "*** 総入力1 ***\n",
            "[0.6 1.3 2. ]\n",
            "\n",
            "*** 中間層出力1 ***\n",
            "[0.6 1.3 2. ]\n",
            "\n",
            "*** 総入力2 ***\n",
            "[1.02 2.29 3.56 4.83]\n",
            "\n",
            "*** 出力1 ***\n",
            "[0.01602796 0.05707321 0.20322929 0.72366954]\n",
            "\n",
            "出力合計: 1.0\n",
            "\n",
            "##### 結果表示 #####\n",
            "*** 出力 ***\n",
            "[0.01602796 0.05707321 0.20322929 0.72366954]\n",
            "\n",
            "*** 訓練データ ***\n",
            "[0 0 0 1]\n",
            "\n",
            "*** 誤差 ***\n",
            "0.3234202933601941\n",
            "\n"
          ],
          "name": "stdout"
        }
      ]
    },
    {
      "cell_type": "markdown",
      "metadata": {
        "id": "pN2ldtNRfL-r"
      },
      "source": [
        "#### 回帰（2-3-2ネットワーク）"
      ]
    },
    {
      "cell_type": "code",
      "metadata": {
        "id": "AwigBRlBe3eS",
        "colab": {
          "base_uri": "https://localhost:8080/"
        },
        "outputId": "ed1400ed-404e-4c1b-db94-2673a777157a"
      },
      "source": [
        "# 回帰\n",
        "# 2-3-2ネットワーク\n",
        "\n",
        "# ！試してみよう_ノードの構成を 3-5-4 に変更してみよう\n",
        "\n",
        "# ウェイトとバイアスを設定\n",
        "# ネートワークを作成\n",
        "def init_network():\n",
        "    print(\"##### ネットワークの初期化 #####\")\n",
        "\n",
        "    network = {}\n",
        "    network['W1'] = np.array([\n",
        "        [0.1, 0.3, 0.5],\n",
        "        [0.2, 0.4, 0.6]\n",
        "    ])\n",
        "    network['W2'] = np.array([\n",
        "        [0.1, 0.4],\n",
        "        [0.2, 0.5],\n",
        "        [0.3, 0.6]\n",
        "    ])\n",
        "    network['b1'] = np.array([0.1, 0.2, 0.3])\n",
        "    network['b2'] = np.array([0.1, 0.2])\n",
        "    \n",
        "    print_vec(\"重み1\", network['W1'] )\n",
        "    print_vec(\"重み2\", network['W2'] )\n",
        "    print_vec(\"バイアス1\", network['b1'] )\n",
        "    print_vec(\"バイアス2\", network['b2'] )\n",
        "\n",
        "    return network\n",
        "\n",
        "# プロセスを作成\n",
        "def forward(network, x):\n",
        "    print(\"##### 順伝播開始 #####\")\n",
        "    \n",
        "    W1, W2 = network['W1'], network['W2']\n",
        "    b1, b2 = network['b1'], network['b2']\n",
        "    # 隠れ層の総入力\n",
        "    u1 = np.dot(x, W1) + b1\n",
        "    # 隠れ層の総出力\n",
        "    z1 = functions.relu(u1)\n",
        "    # 出力層の総入力\n",
        "    u2 = np.dot(z1, W2) + b2\n",
        "    # 出力層の総出力\n",
        "    y = u2\n",
        "    \n",
        "    print_vec(\"総入力1\", u1)\n",
        "    print_vec(\"中間層出力1\", z1)\n",
        "    print_vec(\"総入力2\", u2)\n",
        "    print_vec(\"出力1\", y)\n",
        "    print(\"出力合計: \" + str(np.sum(z1)))\n",
        "    \n",
        "    return y, z1\n",
        "\n",
        "# 入力値\n",
        "x = np.array([1., 2.])\n",
        "network =  init_network()\n",
        "y, z1 = forward(network, x)\n",
        "# 目標出力\n",
        "d = np.array([2., 4.])\n",
        "# 誤差\n",
        "loss = functions.mean_squared_error(d, y)\n",
        "## 表示\n",
        "print(\"\\n##### 結果表示 #####\")\n",
        "print_vec(\"中間層出力\", z1)\n",
        "print_vec(\"出力\", y)\n",
        "print_vec(\"訓練データ\", d)\n",
        "print_vec(\"誤差\",  loss)\n"
      ],
      "execution_count": 8,
      "outputs": [
        {
          "output_type": "stream",
          "text": [
            "##### ネットワークの初期化 #####\n",
            "*** 重み1 ***\n",
            "[[0.1 0.3 0.5]\n",
            " [0.2 0.4 0.6]]\n",
            "\n",
            "*** 重み2 ***\n",
            "[[0.1 0.4]\n",
            " [0.2 0.5]\n",
            " [0.3 0.6]]\n",
            "\n",
            "*** バイアス1 ***\n",
            "[0.1 0.2 0.3]\n",
            "\n",
            "*** バイアス2 ***\n",
            "[0.1 0.2]\n",
            "\n",
            "##### 順伝播開始 #####\n",
            "*** 総入力1 ***\n",
            "[0.6 1.3 2. ]\n",
            "\n",
            "*** 中間層出力1 ***\n",
            "[0.6 1.3 2. ]\n",
            "\n",
            "*** 総入力2 ***\n",
            "[1.02 2.29]\n",
            "\n",
            "*** 出力1 ***\n",
            "[1.02 2.29]\n",
            "\n",
            "出力合計: 3.9\n",
            "\n",
            "##### 結果表示 #####\n",
            "*** 中間層出力 ***\n",
            "[0.6 1.3 2. ]\n",
            "\n",
            "*** 出力 ***\n",
            "[1.02 2.29]\n",
            "\n",
            "*** 訓練データ ***\n",
            "[2. 4.]\n",
            "\n",
            "*** 誤差 ***\n",
            "0.9711249999999999\n",
            "\n"
          ],
          "name": "stdout"
        }
      ]
    },
    {
      "cell_type": "markdown",
      "metadata": {
        "id": "w0anM_0RfQqj"
      },
      "source": [
        "#### 2値分類（2-3-1ネットワーク）"
      ]
    },
    {
      "cell_type": "code",
      "metadata": {
        "id": "Zm2-u-UNe3eU",
        "colab": {
          "base_uri": "https://localhost:8080/"
        },
        "outputId": "61125090-e77b-41f7-f023-7df6e6ba6246"
      },
      "source": [
        "# 2値分類\n",
        "# 2-3-1ネットワーク\n",
        "\n",
        "# ！試してみよう_ノードの構成を 5-10-1 に変更してみよう\n",
        "\n",
        "# ウェイトとバイアスを設定\n",
        "# ネートワークを作成\n",
        "def init_network():\n",
        "    print(\"##### ネットワークの初期化 #####\")\n",
        "\n",
        "    network = {}\n",
        "    network['W1'] = np.array([\n",
        "        [0.1, 0.3, 0.5],\n",
        "        [0.2, 0.4, 0.6]\n",
        "    ])\n",
        "    network['W2'] = np.array([\n",
        "        [0.2],\n",
        "        [0.4],\n",
        "        [0.6]\n",
        "    ])\n",
        "    network['b1'] = np.array([0.1, 0.2, 0.3])\n",
        "    network['b2'] = np.array([0.1])\n",
        "    return network\n",
        "\n",
        "\n",
        "# プロセスを作成\n",
        "def forward(network, x):\n",
        "    print(\"##### 順伝播開始 #####\")\n",
        "    \n",
        "    W1, W2 = network['W1'], network['W2']\n",
        "    b1, b2 = network['b1'], network['b2']    \n",
        "\n",
        "    # 隠れ層の総入力\n",
        "    u1 = np.dot(x, W1) + b1\n",
        "    # 隠れ層の総出力\n",
        "    z1 = functions.relu(u1)\n",
        "    # 出力層の総入力\n",
        "    u2 = np.dot(z1, W2) + b2\n",
        "    # 出力層の総出力\n",
        "    y = functions.sigmoid(u2)\n",
        "            \n",
        "    print_vec(\"総入力1\", u1)\n",
        "    print_vec(\"中間層出力1\", z1)\n",
        "    print_vec(\"総入力2\", u2)\n",
        "    print_vec(\"出力1\", y)\n",
        "    print(\"出力合計: \" + str(np.sum(z1)))\n",
        "\n",
        "    return y, z1\n",
        "\n",
        "\n",
        "# 入力値\n",
        "x = np.array([1., 2.])\n",
        "# 目標出力\n",
        "d = np.array([1])\n",
        "network =  init_network()\n",
        "y, z1 = forward(network, x)\n",
        "# 誤差\n",
        "loss = functions.cross_entropy_error(d, y)\n",
        "\n",
        "## 表示\n",
        "print(\"\\n##### 結果表示 #####\")\n",
        "print_vec(\"中間層出力\", z1)\n",
        "print_vec(\"出力\", y)\n",
        "print_vec(\"訓練データ\", d)\n",
        "print_vec(\"誤差\",  loss)"
      ],
      "execution_count": 9,
      "outputs": [
        {
          "output_type": "stream",
          "text": [
            "##### ネットワークの初期化 #####\n",
            "##### 順伝播開始 #####\n",
            "*** 総入力1 ***\n",
            "[0.6 1.3 2. ]\n",
            "\n",
            "*** 中間層出力1 ***\n",
            "[0.6 1.3 2. ]\n",
            "\n",
            "*** 総入力2 ***\n",
            "[1.94]\n",
            "\n",
            "*** 出力1 ***\n",
            "[0.87435214]\n",
            "\n",
            "出力合計: 3.9\n",
            "\n",
            "##### 結果表示 #####\n",
            "*** 中間層出力 ***\n",
            "[0.6 1.3 2. ]\n",
            "\n",
            "*** 出力 ***\n",
            "[0.87435214]\n",
            "\n",
            "*** 訓練データ ***\n",
            "[1]\n",
            "\n",
            "*** 誤差 ***\n",
            "0.13427195993720972\n",
            "\n"
          ],
          "name": "stdout"
        }
      ]
    },
    {
      "cell_type": "markdown",
      "metadata": {
        "id": "qqJtwzuDkNRk"
      },
      "source": [
        "##確認テスト"
      ]
    },
    {
      "cell_type": "markdown",
      "metadata": {
        "id": "JGAxjDedo6Eg"
      },
      "source": [
        "・この図式に動物分類の実例を入れてみよう。"
      ]
    },
    {
      "cell_type": "markdown",
      "metadata": {
        "id": "XqGM4Nsgop0Y"
      },
      "source": [
        "解答  \n",
        "![1_1.png](data:image/png;base64,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)"
      ]
    },
    {
      "cell_type": "markdown",
      "metadata": {
        "id": "eXETB6hepcxK"
      },
      "source": [
        "・この数式をPythonで書け。\n",
        "$$\n",
        "u = w_1x_1+w_2x_2+w_3x_3+w_4x_4+b = \\boldsymbol{Wx}+b\n",
        "$$"
      ]
    },
    {
      "cell_type": "markdown",
      "metadata": {
        "id": "xYbUfxK4p20x"
      },
      "source": [
        "解答  \n",
        "\n",
        "\n",
        "```\n",
        "u = np.dot(x, W) + b\n",
        "```\n",
        "\n"
      ]
    },
    {
      "cell_type": "markdown",
      "metadata": {
        "id": "UxpxjMoupaWK"
      },
      "source": [
        "・1-1のファイルから中間層の出力を定義しているソースを抜き出せ。"
      ]
    },
    {
      "cell_type": "markdown",
      "metadata": {
        "id": "eqOqBcDircob"
      },
      "source": [
        "解答  \n",
        "\n",
        "```\n",
        "# 2層の総入力\n",
        "u2 = np.dot(z1, W2) + b2\n",
        "    \n",
        "# 2層の総出力\n",
        "z2 = functions.relu(u2)\n",
        "```\n",
        "\n"
      ]
    }
  ]
}