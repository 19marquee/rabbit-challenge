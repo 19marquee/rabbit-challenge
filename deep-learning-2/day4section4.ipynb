{
  "nbformat": 4,
  "nbformat_minor": 0,
  "metadata": {
    "colab": {
      "name": "day4section4.ipynb",
      "provenance": [],
      "collapsed_sections": [],
      "authorship_tag": "ABX9TyOnyh0VIjyzYsHHslGqI/3y",
      "include_colab_link": true
    },
    "kernelspec": {
      "name": "python3",
      "display_name": "Python 3"
    },
    "language_info": {
      "name": "python"
    }
  },
  "cells": [
    {
      "cell_type": "markdown",
      "metadata": {
        "id": "view-in-github",
        "colab_type": "text"
      },
      "source": [
        "<a href=\"https://colab.research.google.com/github/19marquee/rabbit-challenge/blob/main/deep-learning-2/day4section4.ipynb\" target=\"_parent\"><img src=\"https://colab.research.google.com/assets/colab-badge.svg\" alt=\"Open In Colab\"/></a>"
      ]
    },
    {
      "cell_type": "markdown",
      "metadata": {
        "id": "tRvTMNra91cL"
      },
      "source": [
        "# レポート 深層学習day4/Section4:応用モデル"
      ]
    },
    {
      "cell_type": "markdown",
      "metadata": {
        "id": "8zBbJNUdCNmD"
      },
      "source": [
        "## 100文字以内の要点のまとめ"
      ]
    },
    {
      "cell_type": "markdown",
      "metadata": {
        "id": "rqLDjSvkCN5A"
      },
      "source": [
        "- MobileNet：軽量化した画像認識モデル。Depthwise ConvolutionとPointwise Convolutionの組み合わせで軽量化を実現している。\n",
        "- Depthwise Convolutionは、入力マップのチャネルごとに畳み込み演算をする。\n",
        "- Pointwise Convolutionは、1x1の畳み込み層と同等。\n",
        "- DenseNet：DenseBlockを組み込んだ画像認識ネットワーク。\n",
        "- DenseBlockは、出力層の前に層の入力を足し合わせる。\n",
        "- DenseBlockでは前方の各層からの出力全てが後方の層への入力として用いられる。一方、RessidualBlockでは前1層の入力のみが後方の層へ入力される。\n",
        "- Batch Norm Layer：ミニバッチ単位で正規化を行う。Batch Sizeが小さい条件下では、学習が収束しないことがあり、代わりにLayer Normalizationなどの正規化手法が使われることが多い。ミニバッチのサイズに大きく影響を受ける。\n",
        "- Batch Norm：ミニバッチに含まれるsampleの同一チャネルが同一分布に従うよう正規化を行う。\n",
        "- Layer Norm：それぞれのsampleの全てのピクセルが同一分布に従うよう正規化を行う。\n",
        "- Instance Nrom：チャネルも同一分布に従うよう正規化を行う。\n",
        "- Wavenet：音声波形を生成するネットワーク。時系列データに対し畳み込み（Dilated Convolution）を適用する。\n",
        "- Dilated Convolution：層が深くなるにつれて畳み込むリンクを離す。これにより、パラメータに対する受容野が大きくなる。\n",
        "\n",
        "\n"
      ]
    },
    {
      "cell_type": "markdown",
      "metadata": {
        "id": "rU616UZdD9Cs"
      },
      "source": [
        "##実装演習結果"
      ]
    },
    {
      "cell_type": "markdown",
      "metadata": {
        "id": "qjNjkn2rXGpu"
      },
      "source": [
        "該当なしのため、省略します。"
      ]
    },
    {
      "cell_type": "markdown",
      "metadata": {
        "id": "kKCe0Z0r1FEl"
      },
      "source": [
        "##確認テスト"
      ]
    },
    {
      "cell_type": "markdown",
      "metadata": {
        "id": "0sfvBUcIltiY"
      },
      "source": [
        "・MobileNetのアーキテクチャに関する以下の文の空欄を埋めよ。  \n",
        "  \n",
        "●Depthwise Separable Convolutionという手法を用いて計算量を削減している。通常の畳込みが空間方向とチャネル方向の計算を同時に行うのに対して、Depthwise Separable ConvolutionではそれらをDepthwise ConvolutionとPointwise Convolutionと呼ばれる演算によって個別に行う。  \n",
        "●Depthwise Convolitionはチャネル毎に空間方向へ畳み込む。すなわち、チャネル毎にDK×DK×１のサイズのフィルターをそれぞれ用いて計算を行うため、その計算量は（い）となる。  \n",
        "●次にDepthwise Convolutionの出力をPointwise Convolutionによってチャネル方向に畳み込む。すなわち、出力チャネル毎に１×１×Mサイズのフィルターをそれぞれ用いて計算を行うため、その計算量は（う）となる。"
      ]
    },
    {
      "cell_type": "markdown",
      "metadata": {
        "id": "_D-42aWmm3YR"
      },
      "source": [
        "解答  \n",
        "\n",
        "（い）    HxWxCxKxK\n",
        "\n",
        "出力マップ1ピクセルの計算量が（KxK）で、ピクセル数は、（HxWxC）  \n",
        "\n",
        "（う）    HxWxCxM\n",
        "\n",
        "出力マップ1ピクセルの計算量が（C）で、ピクセル数は（HxWxM）"
      ]
    },
    {
      "cell_type": "markdown",
      "metadata": {
        "id": "6TLc3bSXn2EO"
      },
      "source": [
        "・WaveNetモデルに関する以下の文の空欄を埋めよ。\n",
        "\n",
        "●深層学習を用いて結合確率を学習する際に、効率的に学習が行えるアーキテクチャを提案したことがWaveNet の大きな貢献の1 つである。提案された新しいConvolution 型アーキテクチャは（あ）と呼ばれ、結合確率を効率的に学習できるようになっている。  \n",
        "●（あ）を用いた際の大きな利点は、単純なConvolution layer と比べて（い）ことである。\n",
        "\n",
        "(あ)の選択肢  \n",
        "⑴Dilated causal convolution  \n",
        "⑵Depthwise separable convolution  \n",
        "⑶Pointwise convolution  \n",
        "⑷Deconvolution  \n",
        "\n",
        "(い)の選択肢  \n",
        "⑴パラメータ数に対する受容野が広い  \n",
        "⑵受容野あたりのパラメータ数が多い  \n",
        "⑶学習時に並列計算が行える  \n",
        "⑷推論時に並列計算が行える\n"
      ]
    },
    {
      "cell_type": "markdown",
      "metadata": {
        "id": "4y4_BvdtoiAP"
      },
      "source": [
        "解答  \n",
        "\n",
        "(あ)　　(1)Dialated causal convolution  \n",
        "\n",
        "(い)　　(1)パラメータ数に対する受容野が広い"
      ]
    }
  ]
}