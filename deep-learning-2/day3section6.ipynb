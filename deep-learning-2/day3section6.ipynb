{
  "nbformat": 4,
  "nbformat_minor": 0,
  "metadata": {
    "colab": {
      "name": "day3section6.ipynb",
      "provenance": [],
      "authorship_tag": "ABX9TyPrblZa5a9kjDMaLOyTv0+R",
      "include_colab_link": true
    },
    "kernelspec": {
      "name": "python3",
      "display_name": "Python 3"
    },
    "language_info": {
      "name": "python"
    }
  },
  "cells": [
    {
      "cell_type": "markdown",
      "metadata": {
        "id": "view-in-github",
        "colab_type": "text"
      },
      "source": [
        "<a href=\"https://colab.research.google.com/github/19marquee/rabbit-challenge/blob/main/deep-learning-2/day3section6.ipynb\" target=\"_parent\"><img src=\"https://colab.research.google.com/assets/colab-badge.svg\" alt=\"Open In Colab\"/></a>"
      ]
    },
    {
      "cell_type": "markdown",
      "metadata": {
        "id": "tRvTMNra91cL"
      },
      "source": [
        "# レポート 深層学習day3/Section6:Word2Vec\n"
      ]
    },
    {
      "cell_type": "markdown",
      "metadata": {
        "id": "8zBbJNUdCNmD"
      },
      "source": [
        "## 100文字以内の要点のまとめ"
      ]
    },
    {
      "cell_type": "markdown",
      "metadata": {
        "id": "rqLDjSvkCN5A"
      },
      "source": [
        "- Word2Vec：単語のOneHotVectorから単語の分散表現（Embedding表現）に変換して、単語の意味同士が近くなるようなベクトルを見つける。\n",
        "- 大規模データの分散表現の学習が、現実的な計算速度とメモリ量で実現可能になった。単語のOneHotVectorから分散表現に変換する時に何かしらの変換規則を用いるが、この変換規則を機械学習によって学習させる。そうすることで、単語の意味を保ちながら、より少ない次元のベクトルで単語の特徴である分散表現が得られる。"
      ]
    },
    {
      "cell_type": "markdown",
      "metadata": {
        "id": "rU616UZdD9Cs"
      },
      "source": [
        "##実装演習結果"
      ]
    },
    {
      "cell_type": "markdown",
      "metadata": {
        "id": "qjNjkn2rXGpu"
      },
      "source": [
        "該当なしのため、省略します。"
      ]
    },
    {
      "cell_type": "markdown",
      "metadata": {
        "id": "kKCe0Z0r1FEl"
      },
      "source": [
        "##確認テスト"
      ]
    },
    {
      "cell_type": "markdown",
      "metadata": {
        "id": "yUFgwFurXbxg"
      },
      "source": [
        "該当なしのため、省略します。"
      ]
    }
  ]
}