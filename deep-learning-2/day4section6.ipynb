{
  "nbformat": 4,
  "nbformat_minor": 0,
  "metadata": {
    "colab": {
      "name": "day4section6.ipynb",
      "provenance": [],
      "collapsed_sections": [],
      "authorship_tag": "ABX9TyN7vLoDMqk6iz2yS1+NG0Tx",
      "include_colab_link": true
    },
    "kernelspec": {
      "name": "python3",
      "display_name": "Python 3"
    },
    "language_info": {
      "name": "python"
    }
  },
  "cells": [
    {
      "cell_type": "markdown",
      "metadata": {
        "id": "view-in-github",
        "colab_type": "text"
      },
      "source": [
        "<a href=\"https://colab.research.google.com/github/19marquee/rabbit-challenge/blob/main/deep-learning-2/day4section6.ipynb\" target=\"_parent\"><img src=\"https://colab.research.google.com/assets/colab-badge.svg\" alt=\"Open In Colab\"/></a>"
      ]
    },
    {
      "cell_type": "markdown",
      "metadata": {
        "id": "tRvTMNra91cL"
      },
      "source": [
        "# レポート 深層学習day4/Section6:物体検知・セグメンテーション"
      ]
    },
    {
      "cell_type": "markdown",
      "metadata": {
        "id": "8zBbJNUdCNmD"
      },
      "source": [
        "## 100文字以内の要点のまとめ"
      ]
    },
    {
      "cell_type": "markdown",
      "metadata": {
        "id": "rqLDjSvkCN5A"
      },
      "source": [
        "- 物体認識タスクにも様々な種類がある。分類、物体検知、セマンティックセグメンテーション（意味領域分割）、インスタンスセグメンテーション（個体領域分割）。\n",
        "- 代表的なデータセットとして、VOC12（Visual Object Classes）、ILSVRC12: ImageNetのサブセット、MS COCO18 (Microsoft Common Object in Context)、OICOD18 (Open Images Challenges Object Detection)がある。\n",
        "- クラス数や、BBoxの種類等、データセットによって差があり目的にあったデータセットを選ぶことが大切である。\n",
        "- Precision = TP/(TP + FP)\n",
        "- Recall = TP/(TP + FN)\n",
        "- IoU：物体位置の予測精度をはかる指標。IoU = Area of Overlap / Area of Union\n",
        "- 物体検知で用いられる指標として、Average Precision (AP)、 mean Average Precision(mAP)、Flames per Second(FPS)がある。\n",
        "- 2012年AlexNetが登場して, 時代はSIFT(Scale Invariant Feature Transform)からDCNN(Deep Convolutional Neural Network)に変化。\n",
        "- 物体検知には、1段階検出器と2段階検出の2種がある。1段階検出器は候補領域の検出とクラス推定を同時に行う。精度低い、計算量小さい、推論早い傾向を持つ。一方、2段階検出器は候補領域の検出とクラス推定を別々に行う。精度高い、計算量大きい、推論遅い傾向を持つ。\n",
        "- SSD(Single Shot Detector):代表的な物体検知手法で、YOLOと並び有名なモデルである。VGG16をベースとした1段階検出器モデル。\n",
        "- Semantic Segmentation：ConvolutionやPoolingを繰り返す事により、特徴のサイズがちいさくなり、入力画像の解像度が落ちていく。Semantic Segmentationでは各ピクセルに対してクラス分類を行う事となるため、落ちた解像度をどう元に戻すかが問題となる。\n",
        "Up-samplingという処理で解像度をもととに戻す。\n",
        "- Deconvolution/Transposed convolution：通常の畳み込み層と同様にkernel size, padding, strideを指定する。\n",
        "Unpooling：プーリングした時の位置情報を保持しておく方法。"
      ]
    },
    {
      "cell_type": "markdown",
      "metadata": {
        "id": "rU616UZdD9Cs"
      },
      "source": [
        "##実装演習結果"
      ]
    },
    {
      "cell_type": "markdown",
      "metadata": {
        "id": "qjNjkn2rXGpu"
      },
      "source": [
        "該当なしのため、省略します。"
      ]
    },
    {
      "cell_type": "markdown",
      "metadata": {
        "id": "kKCe0Z0r1FEl"
      },
      "source": [
        "##確認テスト"
      ]
    },
    {
      "cell_type": "markdown",
      "metadata": {
        "id": "YtgkmG7MlNjU"
      },
      "source": [
        "該当なしのため、省略します。"
      ]
    }
  ]
}