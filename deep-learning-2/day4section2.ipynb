{
  "nbformat": 4,
  "nbformat_minor": 0,
  "metadata": {
    "colab": {
      "name": "day4section2.ipynb",
      "provenance": [],
      "collapsed_sections": [],
      "authorship_tag": "ABX9TyM2ajG5LkkN/Bbg6Ty4wGmp",
      "include_colab_link": true
    },
    "kernelspec": {
      "name": "python3",
      "display_name": "Python 3"
    },
    "language_info": {
      "name": "python"
    }
  },
  "cells": [
    {
      "cell_type": "markdown",
      "metadata": {
        "id": "view-in-github",
        "colab_type": "text"
      },
      "source": [
        "<a href=\"https://colab.research.google.com/github/19marquee/rabbit-challenge/blob/main/deep-learning-2/day4section2.ipynb\" target=\"_parent\"><img src=\"https://colab.research.google.com/assets/colab-badge.svg\" alt=\"Open In Colab\"/></a>"
      ]
    },
    {
      "cell_type": "markdown",
      "metadata": {
        "id": "tRvTMNra91cL"
      },
      "source": [
        "# レポート 深層学習day4/Section2:AlphaGo"
      ]
    },
    {
      "cell_type": "markdown",
      "metadata": {
        "id": "8zBbJNUdCNmD"
      },
      "source": [
        "## 100文字以内の要点のまとめ"
      ]
    },
    {
      "cell_type": "markdown",
      "metadata": {
        "id": "rqLDjSvkCN5A"
      },
      "source": [
        "- Alpha Go Lee：PolicyNet、ValueNetは共に畳み込みニューラルネットワークで構成されている。\n",
        "- 2つのネットワークの入力には、石の数、着手履歴、呼吸点などの特徴に対応する48チャネルを持つ。\n",
        "- PolicyNetは、19x19マスの着手予想確率が出力される(softmax関数)。ValueNetは、現在の局面の勝率を-1～1で表したものが出力される(TanH関数)。\n",
        "- Alpha Goは学習プロセスは、１.教師あり学習によるRollOutPolicyとPolicyNetの学習。２.強化学習によるPolicyNetの学習。３,強化学習によるValueNetの学習。という流れである。\n",
        "- モンテカルロ木探索：強化学習（価値関数）の学習方法。\n",
        "- Alpha Go Zero：Leeとの違いとして、教師あり学習を使わず、強化学習のみで実現。入力特徴からヒューリスティックな要素を排除して、石の配置のみを利用。PolicyNetとValueNetの統合。Residual Netの導入。Rolloutシミュレーションを使わない。\n",
        "- Residual Net：ネットワークにショートカット構造を追加した仕組みである。ショートカット構造のスキップにより、勾配の爆発、消失を抑える効果がある。\n",
        "- 基本構造はConvolution→BatchNorm→ReLU→Convolution→BatchNorm→Add→ReLUのBlockを１単位にして積み重ねる形をとる。"
      ]
    },
    {
      "cell_type": "markdown",
      "metadata": {
        "id": "rU616UZdD9Cs"
      },
      "source": [
        "##実装演習結果"
      ]
    },
    {
      "cell_type": "markdown",
      "metadata": {
        "id": "qjNjkn2rXGpu"
      },
      "source": [
        "該当なしのため、省略します。"
      ]
    },
    {
      "cell_type": "markdown",
      "metadata": {
        "id": "kKCe0Z0r1FEl"
      },
      "source": [
        "##確認テスト"
      ]
    },
    {
      "cell_type": "markdown",
      "metadata": {
        "id": "ZcFf8CdclMaf"
      },
      "source": [
        "該当なしのため、省略します。"
      ]
    }
  ]
}