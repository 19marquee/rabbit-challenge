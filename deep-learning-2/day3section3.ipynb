{
  "nbformat": 4,
  "nbformat_minor": 0,
  "metadata": {
    "colab": {
      "name": "day3section3.ipynb",
      "provenance": [],
      "authorship_tag": "ABX9TyPms62m5UtXMoO6bHleFUGK",
      "include_colab_link": true
    },
    "kernelspec": {
      "name": "python3",
      "display_name": "Python 3"
    },
    "language_info": {
      "name": "python"
    }
  },
  "cells": [
    {
      "cell_type": "markdown",
      "metadata": {
        "id": "view-in-github",
        "colab_type": "text"
      },
      "source": [
        "<a href=\"https://colab.research.google.com/github/19marquee/rabbit-challenge/blob/main/deep-learning-2/day3section3.ipynb\" target=\"_parent\"><img src=\"https://colab.research.google.com/assets/colab-badge.svg\" alt=\"Open In Colab\"/></a>"
      ]
    },
    {
      "cell_type": "markdown",
      "metadata": {
        "id": "tRvTMNra91cL"
      },
      "source": [
        "# レポート 深層学習day3/Section3:GRU\n"
      ]
    },
    {
      "cell_type": "markdown",
      "metadata": {
        "id": "8zBbJNUdCNmD"
      },
      "source": [
        "## 100文字以内の要点のまとめ"
      ]
    },
    {
      "cell_type": "markdown",
      "metadata": {
        "id": "rqLDjSvkCN5A"
      },
      "source": [
        "- GRU(Gated Recurrent Unit)：LSTMの改良版。LSTMはパラメータの数が多く、計算負荷が高い場合があるのに対して、GRUはパラメータ数を大幅に削減して、精度は同等もしくはそれ以上が期待できるモデルである。\n",
        "- 更新ゲートとリセットゲートを構成要素としてモデルに組み込まれている。"
      ]
    },
    {
      "cell_type": "markdown",
      "metadata": {
        "id": "rU616UZdD9Cs"
      },
      "source": [
        "##実装演習結果"
      ]
    },
    {
      "cell_type": "markdown",
      "metadata": {
        "id": "8cNl2QA_Rnv5"
      },
      "source": [
        "#### 準備"
      ]
    },
    {
      "cell_type": "markdown",
      "metadata": {
        "id": "5EsSHJPNri4O"
      },
      "source": [
        "#### Googleドライブのマウント"
      ]
    },
    {
      "cell_type": "code",
      "metadata": {
        "colab": {
          "base_uri": "https://localhost:8080/"
        },
        "id": "auNnGBKzri4P",
        "outputId": "520050f6-c8d1-47e8-91d4-6cb90d7379e6"
      },
      "source": [
        "from google.colab import drive\n",
        "drive.mount('/content/drive')"
      ],
      "execution_count": 1,
      "outputs": [
        {
          "output_type": "stream",
          "text": [
            "Mounted at /content/drive\n"
          ],
          "name": "stdout"
        }
      ]
    },
    {
      "cell_type": "markdown",
      "metadata": {
        "id": "tRLEhtVVri4R"
      },
      "source": [
        "#### sys.pathの設定"
      ]
    },
    {
      "cell_type": "markdown",
      "metadata": {
        "id": "mci1Ynwlri4S"
      },
      "source": [
        "以下では，Googleドライブのマイドライブ直下にDNN_codeフォルダを置くことを仮定しています．必要に応じて，パスを変更してください．"
      ]
    },
    {
      "cell_type": "code",
      "metadata": {
        "id": "dcJkdeTVri4T"
      },
      "source": [
        "import sys\n",
        "sys.path.append('/content/drive/My Drive/DNN_code')"
      ],
      "execution_count": 2,
      "outputs": []
    },
    {
      "cell_type": "markdown",
      "metadata": {
        "id": "wgWI_Cdtri4U"
      },
      "source": [
        "#### predict sin\n"
      ]
    },
    {
      "cell_type": "markdown",
      "metadata": {
        "id": "-QdaAu9_rG3H"
      },
      "source": [
        "---------------------------------------------------------------------------------------------------------------------------------------------------------------------------------------------\n",
        "#### [try]\n",
        "-  iters_numを100にしよう\n",
        "-  maxlenを5, iters_numを500, 3000(※時間がかかる)にしよう\n",
        "---------------------------------------------------------------------------------------------------------------------------------------------------------------------------------------------"
      ]
    },
    {
      "cell_type": "markdown",
      "metadata": {
        "id": "Vpt1t0LBrLAQ"
      },
      "source": [
        "maxlenを5、iters_numを500に設定して学習"
      ]
    },
    {
      "cell_type": "code",
      "metadata": {
        "id": "IDpzOt8Aqr5-",
        "colab": {
          "base_uri": "https://localhost:8080/",
          "height": 1000
        },
        "outputId": "d7a4d0e6-284c-4af3-812f-e657fe00f344"
      },
      "source": [
        "import numpy as np\n",
        "from common import functions\n",
        "import matplotlib.pyplot as plt\n",
        "from sklearn.model_selection import train_test_split\n",
        "\n",
        "np.random.seed(0)\n",
        "\n",
        "# sin曲線\n",
        "round_num = 10\n",
        "div_num = 500\n",
        "ts = np.linspace(0, round_num * np.pi, div_num)\n",
        "f = np.sin(ts)\n",
        "\n",
        "def d_tanh(x):\n",
        "    return 1/(np.cosh(x)**2 + 1e-4)\n",
        "\n",
        "# ひとつの時系列データの長さ\n",
        "maxlen = 5\n",
        "\n",
        "# sin波予測の入力データ\n",
        "test_head = [[f[k]] for k in range(0, maxlen)]\n",
        "\n",
        "data = []\n",
        "target = []\n",
        "\n",
        "for i in range(div_num - maxlen):\n",
        "    data.append(f[i: i + maxlen])\n",
        "    target.append(f[i + maxlen])\n",
        "    \n",
        "X = np.array(data).reshape(len(data), maxlen, 1)\n",
        "D = np.array(target).reshape(len(data), 1)\n",
        "\n",
        "# データ設定\n",
        "N_train = int(len(data) * 0.8)\n",
        "N_validation = len(data) - N_train\n",
        "\n",
        "x_train, x_test, d_train, d_test = train_test_split(X, D, test_size=N_validation)\n",
        "\n",
        "input_layer_size = 1\n",
        "hidden_layer_size = 5\n",
        "output_layer_size = 1\n",
        "\n",
        "weight_init_std = 0.01\n",
        "learning_rate = 0.1\n",
        "\n",
        "iters_num = 500\n",
        "\n",
        "# ウェイト初期化 (バイアスは簡単のため省略)\n",
        "W_in = weight_init_std * np.random.randn(input_layer_size, hidden_layer_size)\n",
        "W_out = weight_init_std * np.random.randn(hidden_layer_size, output_layer_size)\n",
        "W = weight_init_std * np.random.randn(hidden_layer_size, hidden_layer_size)\n",
        "\n",
        "# 勾配\n",
        "W_in_grad = np.zeros_like(W_in)\n",
        "W_out_grad = np.zeros_like(W_out)\n",
        "W_grad = np.zeros_like(W)\n",
        "\n",
        "us = []\n",
        "zs = []\n",
        "\n",
        "u = np.zeros(hidden_layer_size)\n",
        "z = np.zeros(hidden_layer_size)\n",
        "y = np.zeros(output_layer_size)\n",
        "\n",
        "delta_out = np.zeros(output_layer_size)\n",
        "delta = np.zeros(hidden_layer_size)\n",
        "\n",
        "losses = []\n",
        "\n",
        "# トレーニング\n",
        "for i in range(iters_num):\n",
        "    for s in range(x_train.shape[0]):\n",
        "        us.clear()\n",
        "        zs.clear()\n",
        "        z *= 0\n",
        "        \n",
        "        # sにおける正解データ\n",
        "        d = d_train[s]\n",
        "\n",
        "        xs = x_train[s]        \n",
        "        \n",
        "        # 時系列ループ\n",
        "        for t in range(maxlen):\n",
        "            \n",
        "            # 入力値\n",
        "            x = xs[t]\n",
        "            u = np.dot(x, W_in) + np.dot(z, W)\n",
        "            us.append(u)\n",
        "            z = np.tanh(u)\n",
        "            zs.append(z)\n",
        "\n",
        "        y = np.dot(z, W_out)\n",
        "        \n",
        "        #誤差\n",
        "        loss = functions.mean_squared_error(d, y)\n",
        "        \n",
        "        delta_out = functions.d_mean_squared_error(d, y)\n",
        "        \n",
        "        delta *= 0\n",
        "        for t in range(maxlen)[::-1]:\n",
        "            \n",
        "            delta = (np.dot(delta, W.T) + np.dot(delta_out, W_out.T)) * d_tanh(us[t])\n",
        "            \n",
        "            # 勾配更新\n",
        "            W_grad += np.dot(zs[t].reshape(-1,1), delta.reshape(1,-1))\n",
        "            W_in_grad += np.dot(xs[t], delta.reshape(1,-1))\n",
        "        W_out_grad = np.dot(z.reshape(-1,1), delta_out)\n",
        "        \n",
        "        # 勾配適用\n",
        "        W -= learning_rate * W_grad\n",
        "        W_in -= learning_rate * W_in_grad\n",
        "        W_out -= learning_rate * W_out_grad.reshape(-1,1)\n",
        "            \n",
        "        W_in_grad *= 0\n",
        "        W_out_grad *= 0\n",
        "        W_grad *= 0\n",
        "\n",
        "# テスト        \n",
        "for s in range(x_test.shape[0]):\n",
        "    z *= 0\n",
        "\n",
        "    # sにおける正解データ\n",
        "    d = d_test[s]\n",
        "\n",
        "    xs = x_test[s]\n",
        "\n",
        "    # 時系列ループ\n",
        "    for t in range(maxlen):\n",
        "\n",
        "        # 入力値\n",
        "        x = xs[t]\n",
        "        u = np.dot(x, W_in) + np.dot(z, W)\n",
        "        z = np.tanh(u)\n",
        "\n",
        "    y = np.dot(z, W_out)\n",
        "\n",
        "    #誤差\n",
        "    loss = functions.mean_squared_error(d, y)\n",
        "    print('loss:', loss, '   d:', d, '   y:', y)\n",
        "        \n",
        "        \n",
        "        \n",
        "original = np.full(maxlen, None)\n",
        "pred_num = 200\n",
        "\n",
        "xs = test_head\n",
        "\n",
        "# sin波予測\n",
        "for s in range(0, pred_num):\n",
        "    z *= 0\n",
        "    for t in range(maxlen):\n",
        "        \n",
        "        # 入力値\n",
        "        x = xs[t]\n",
        "        u = np.dot(x, W_in) + np.dot(z, W)\n",
        "        z = np.tanh(u)\n",
        "\n",
        "    y = np.dot(z, W_out)\n",
        "    original = np.append(original, y)\n",
        "    xs = np.delete(xs, 0)\n",
        "    xs = np.append(xs, y)\n",
        "\n",
        "plt.figure()\n",
        "plt.ylim([-1.5, 1.5])\n",
        "plt.plot(np.sin(np.linspace(0, round_num* pred_num / div_num * np.pi, pred_num)), linestyle='dotted', color='#aaaaaa')\n",
        "plt.plot(original, linestyle='dashed', color='black')\n",
        "plt.show()"
      ],
      "execution_count": 3,
      "outputs": [
        {
          "output_type": "stream",
          "text": [
            "loss: 1.910653011300673e-06    d: [-0.29761864]    y: [-0.29566383]\n",
            "loss: 4.009145134729275e-06    d: [-0.56307233]    y: [-0.56024067]\n",
            "loss: 4.117004181533802e-06    d: [-0.65766776]    y: [-0.65479826]\n",
            "loss: 1.2186275784359606e-06    d: [0.13182648]    y: [0.13026531]\n",
            "loss: 2.856909186221314e-06    d: [0.49909101]    y: [0.49670065]\n",
            "loss: 2.9683545816401188e-05    d: [0.9518317]    y: [0.9441267]\n",
            "loss: 3.027614372135897e-05    d: [0.97784112]    y: [0.97005959]\n",
            "loss: 3.4625189230118902e-06    d: [-0.58880346]    y: [-0.58617192]\n",
            "loss: 1.6259323267398064e-05    d: [-0.78351093]    y: [-0.77780842]\n",
            "loss: 2.265698201958615e-06    d: [-0.49909101]    y: [-0.4969623]\n",
            "loss: 1.582143105988781e-06    d: [0.21857331]    y: [0.21679447]\n",
            "loss: 2.3430828768780229e-07    d: [-0.33938943]    y: [-0.33870488]\n",
            "loss: 2.5337797976267956e-06    d: [-0.43793098]    y: [-0.43567986]\n",
            "loss: 2.061751849314868e-06    d: [-0.33346065]    y: [-0.33143001]\n",
            "loss: 2.3604686128432536e-05    d: [-0.99639027]    y: [-0.98951936]\n",
            "loss: 1.0034138848194135e-05    d: [0.88624247]    y: [0.8817627]\n",
            "loss: 2.8282321095839728e-05    d: [-0.92833248]    y: [-0.92081153]\n",
            "loss: 2.78184744242551e-06    d: [-0.52075286]    y: [-0.51839411]\n",
            "loss: 3.677547008199645e-06    d: [-0.55262221]    y: [-0.54991018]\n",
            "loss: 2.734801351892507e-06    d: [0.47711265]    y: [0.47477393]\n",
            "loss: 5.707001416449921e-06    d: [0.60896952]    y: [0.60559106]\n",
            "loss: 2.9379645845489327e-05    d: [-0.94587102]    y: [-0.93820556]\n",
            "loss: 1.8352410607052524e-06    d: [0.27953518]    y: [0.27761933]\n",
            "loss: 1.2909399724268787e-05    d: [0.73863456]    y: [0.73355334]\n",
            "loss: 6.364124991717427e-07    d: [-0.00629574]    y: [-0.00742393]\n",
            "loss: 3.121808149453971e-06    d: [0.54208448]    y: [0.53958575]\n",
            "loss: 2.4277502169562225e-05    d: [0.99781582]    y: [0.99084767]\n",
            "loss: 3.0156535739515055e-05    d: [-0.96441607]    y: [-0.95664992]\n",
            "loss: 3.664464683817808e-07    d: [0.07547747]    y: [0.07633357]\n",
            "loss: 4.170942068396281e-06    d: [0.66239735]    y: [0.65950912]\n",
            "loss: 3.1572023193130927e-06    d: [-0.54736419]    y: [-0.54485134]\n",
            "loss: 2.920107362631256e-05    d: [0.99393675]    y: [0.98629462]\n",
            "loss: 1.6777427734822885e-05    d: [0.96441607]    y: [0.95862342]\n",
            "loss: 1.6076515357796088e-06    d: [-0.22471249]    y: [-0.22291936]\n",
            "loss: 2.26844816870182e-05    d: [-0.99393675]    y: [-0.9872011]\n",
            "loss: 1.145049197576927e-05    d: [-0.71705202]    y: [-0.71226653]\n",
            "loss: 2.3134935535598316e-05    d: [0.8649742]    y: [0.85817201]\n",
            "loss: 2.1759433323155123e-07    d: [-0.11933469]    y: [-0.11999438]\n",
            "loss: 7.988432737302286e-07    d: [-0.40941891]    y: [-0.40815491]\n",
            "loss: 2.344709519850805e-06    d: [0.39789889]    y: [0.39573339]\n",
            "loss: 2.0555094439684004e-05    d: [0.98611478]    y: [0.97970306]\n",
            "loss: 3.895040673436027e-07    d: [-0.0691982]    y: [-0.07008082]\n",
            "loss: 3.38979373912094e-07    d: [0.35709413]    y: [0.35627075]\n",
            "loss: 2.3376863487904352e-05    d: [0.99583607]    y: [0.9889984]\n",
            "loss: 1.2711586427784907e-05    d: [-0.92597363]    y: [-0.92093149]\n",
            "loss: 4.2154733560569265e-07    d: [0.36882689]    y: [0.36790869]\n",
            "loss: 2.7395603780704112e-05    d: [0.91617219]    y: [0.90877008]\n",
            "loss: 2.9209050974626282e-06    d: [0.52611726]    y: [0.52370027]\n",
            "loss: 3.019689599675981e-05    d: [0.96606148]    y: [0.95829014]\n",
            "loss: 1.160844979033826e-06    d: [0.43793098]    y: [0.43640727]\n",
            "loss: 2.3407708404833906e-05    d: [-0.86811636]    y: [-0.86127418]\n",
            "loss: 2.576901643920254e-05    d: [-0.99975723]    y: [-0.99257823]\n",
            "loss: 6.035275092436553e-06    d: [0.77562491]    y: [0.77215064]\n",
            "loss: 8.464031632313214e-07    d: [0.04405617]    y: [0.04275509]\n",
            "loss: 4.91088179604297e-06    d: [0.71705202]    y: [0.71391805]\n",
            "loss: 2.420446717902368e-05    d: [0.8773359]    y: [0.87037824]\n",
            "loss: 1.1761529331289002e-05    d: [0.91363079]    y: [0.90878074]\n",
            "loss: 1.8884480858586924e-05    d: [-0.97784112]    y: [-0.97169547]\n",
            "loss: 1.6321019461943886e-05    d: [0.96101064]    y: [0.95529732]\n",
            "loss: 1.7848998612744656e-06    d: [0.26742375]    y: [0.26553435]\n",
            "loss: 9.25873978736872e-06    d: [-0.87122411]    y: [-0.86692092]\n",
            "loss: 1.1947044111112696e-05    d: [-0.91617219]    y: [-0.91128403]\n",
            "loss: 2.367698734863539e-05    d: [0.87122411]    y: [0.86434269]\n",
            "loss: 2.0077118853716177e-05    d: [0.98394564]    y: [0.97760891]\n",
            "loss: 7.360472484876243e-07    d: [0.4036669]    y: [0.4024536]\n",
            "loss: 3.215348705019612e-07    d: [0.0880268]    y: [0.08882871]\n",
            "loss: 1.8423057856327496e-05    d: [0.81012572]    y: [0.80405562]\n",
            "loss: 8.647639137497615e-07    d: [0.41515469]    y: [0.41383957]\n",
            "loss: 2.3147473229279453e-05    d: [-0.99524241]    y: [-0.98843837]\n",
            "loss: 1.4770673004449842e-05    d: [-0.94789551]    y: [-0.94246032]\n",
            "loss: 1.375914498800539e-06    d: [0.16916853]    y: [0.16750966]\n",
            "loss: 2.977144803367199e-05    d: [-0.95374324]    y: [-0.94602684]\n",
            "loss: 1.2027467468928618e-05    d: [-0.72577151]    y: [-0.72086693]\n",
            "loss: 5.354317825687117e-06    d: [0.74286391]    y: [0.73959151]\n",
            "loss: 1.4343081452798924e-05    d: [-0.94380904]    y: [-0.9384531]\n",
            "loss: 2.054825340839213e-05    d: [-0.83516734]    y: [-0.82875668]\n",
            "loss: 2.914392698622695e-05    d: [-0.94170965]    y: [-0.934075]\n",
            "loss: 1.5117298951909603e-07    d: [0.32156366]    y: [0.3210138]\n",
            "loss: 2.7647736883481526e-06    d: [-0.48263615]    y: [-0.48028466]\n",
            "loss: 5.098030445281678e-07    d: [0.03776568]    y: [0.03877543]\n",
            "loss: 2.6672361151785553e-07    d: [0.34530476]    y: [0.34457439]\n",
            "loss: 3.2668780046027095e-06    d: [0.56307233]    y: [0.56051621]\n",
            "loss: 1.1397375708733438e-05    d: [0.90843947]    y: [0.90366509]\n",
            "loss: 2.7467117229246126e-05    d: [0.99940055]    y: [0.99198879]\n",
            "loss: 8.541817963329126e-06    d: [0.85534252]    y: [0.85120928]\n",
            "loss: 1.3715986197120597e-05    d: [0.93739898]    y: [0.93216142]\n",
            "loss: 2.8420473380292057e-05    d: [0.99738016]    y: [0.98984087]\n",
            "loss: 1.0326987537003053e-05    d: [-0.6992734]    y: [-0.69472873]\n",
            "loss: 2.575927071064899e-07    d: [-0.10682399]    y: [-0.10754175]\n",
            "loss: 3.362541913366482e-06    d: [-0.54208448]    y: [-0.5394912]\n",
            "loss: 2.556381224232505e-05    d: [0.9995987]    y: [0.99244835]\n",
            "loss: 7.097181964471173e-08    d: [0.29761864]    y: [0.29724189]\n",
            "loss: 2.245112358570392e-05    d: [0.99322482]    y: [0.9865239]\n",
            "loss: 2.0428571992744067e-07    d: [0.33346065]    y: [0.33282145]\n",
            "loss: 7.633696195166696e-06    d: [-0.83168816]    y: [-0.82778081]\n",
            "loss: 2.03161423263365e-05    d: [-0.98504973]    y: [-0.97867539]\n",
            "loss: 7.255100230460557e-06    d: [-0.64332332]    y: [-0.6395141]\n",
            "loss: 2.5061446081557614e-06    d: [0.43226238]    y: [0.43002357]\n",
            "loss: 1.8730302917253884e-05    d: [-0.81380058]    y: [-0.80768007]\n"
          ],
          "name": "stdout"
        },
        {
          "output_type": "display_data",
          "data": {
            "image/png": "[encoded data removed]",
            "text/plain": [
              "<Figure size 432x288 with 1 Axes>"
            ]
          },
          "metadata": {
            "tags": [],
            "needs_background": "light"
          }
        }
      ]
    },
    {
      "cell_type": "markdown",
      "metadata": {
        "id": "wvdSDcJytejJ"
      },
      "source": [
        "学習を重ねることで、波の波形を再現することはできている。"
      ]
    },
    {
      "cell_type": "markdown",
      "metadata": {
        "id": "p9AFvvFOqzJ_"
      },
      "source": [
        "iters_numを100に変更して学習"
      ]
    },
    {
      "cell_type": "code",
      "metadata": {
        "colab": {
          "base_uri": "https://localhost:8080/",
          "height": 1000
        },
        "id": "ZceYKF0lri4c",
        "outputId": "69e0246f-cf2e-4204-995e-17f2f7a55cdb"
      },
      "source": [
        "import numpy as np\n",
        "from common import functions\n",
        "import matplotlib.pyplot as plt\n",
        "from sklearn.model_selection import train_test_split\n",
        "\n",
        "np.random.seed(0)\n",
        "\n",
        "# sin曲線\n",
        "round_num = 10\n",
        "div_num = 500\n",
        "ts = np.linspace(0, round_num * np.pi, div_num)\n",
        "f = np.sin(ts)\n",
        "\n",
        "def d_tanh(x):\n",
        "    return 1/(np.cosh(x)**2 + 1e-4)\n",
        "\n",
        "# ひとつの時系列データの長さ\n",
        "maxlen = 2\n",
        "\n",
        "# sin波予測の入力データ\n",
        "test_head = [[f[k]] for k in range(0, maxlen)]\n",
        "\n",
        "data = []\n",
        "target = []\n",
        "\n",
        "for i in range(div_num - maxlen):\n",
        "    data.append(f[i: i + maxlen])\n",
        "    target.append(f[i + maxlen])\n",
        "    \n",
        "X = np.array(data).reshape(len(data), maxlen, 1)\n",
        "D = np.array(target).reshape(len(data), 1)\n",
        "\n",
        "# データ設定\n",
        "N_train = int(len(data) * 0.8)\n",
        "N_validation = len(data) - N_train\n",
        "\n",
        "x_train, x_test, d_train, d_test = train_test_split(X, D, test_size=N_validation)\n",
        "\n",
        "input_layer_size = 1\n",
        "hidden_layer_size = 5\n",
        "output_layer_size = 1\n",
        "\n",
        "weight_init_std = 0.01\n",
        "learning_rate = 0.1\n",
        "\n",
        "iters_num = 100\n",
        "\n",
        "# ウェイト初期化 (バイアスは簡単のため省略)\n",
        "W_in = weight_init_std * np.random.randn(input_layer_size, hidden_layer_size)\n",
        "W_out = weight_init_std * np.random.randn(hidden_layer_size, output_layer_size)\n",
        "W = weight_init_std * np.random.randn(hidden_layer_size, hidden_layer_size)\n",
        "\n",
        "# 勾配\n",
        "W_in_grad = np.zeros_like(W_in)\n",
        "W_out_grad = np.zeros_like(W_out)\n",
        "W_grad = np.zeros_like(W)\n",
        "\n",
        "us = []\n",
        "zs = []\n",
        "\n",
        "u = np.zeros(hidden_layer_size)\n",
        "z = np.zeros(hidden_layer_size)\n",
        "y = np.zeros(output_layer_size)\n",
        "\n",
        "delta_out = np.zeros(output_layer_size)\n",
        "delta = np.zeros(hidden_layer_size)\n",
        "\n",
        "losses = []\n",
        "\n",
        "# トレーニング\n",
        "for i in range(iters_num):\n",
        "    for s in range(x_train.shape[0]):\n",
        "        us.clear()\n",
        "        zs.clear()\n",
        "        z *= 0\n",
        "        \n",
        "        # sにおける正解データ\n",
        "        d = d_train[s]\n",
        "\n",
        "        xs = x_train[s]        \n",
        "        \n",
        "        # 時系列ループ\n",
        "        for t in range(maxlen):\n",
        "            \n",
        "            # 入力値\n",
        "            x = xs[t]\n",
        "            u = np.dot(x, W_in) + np.dot(z, W)\n",
        "            us.append(u)\n",
        "            z = np.tanh(u)\n",
        "            zs.append(z)\n",
        "\n",
        "        y = np.dot(z, W_out)\n",
        "        \n",
        "        #誤差\n",
        "        loss = functions.mean_squared_error(d, y)\n",
        "        \n",
        "        delta_out = functions.d_mean_squared_error(d, y)\n",
        "        \n",
        "        delta *= 0\n",
        "        for t in range(maxlen)[::-1]:\n",
        "            \n",
        "            delta = (np.dot(delta, W.T) + np.dot(delta_out, W_out.T)) * d_tanh(us[t])\n",
        "            \n",
        "            # 勾配更新\n",
        "            W_grad += np.dot(zs[t].reshape(-1,1), delta.reshape(1,-1))\n",
        "            W_in_grad += np.dot(xs[t], delta.reshape(1,-1))\n",
        "        W_out_grad = np.dot(z.reshape(-1,1), delta_out)\n",
        "        \n",
        "        # 勾配適用\n",
        "        W -= learning_rate * W_grad\n",
        "        W_in -= learning_rate * W_in_grad\n",
        "        W_out -= learning_rate * W_out_grad.reshape(-1,1)\n",
        "            \n",
        "        W_in_grad *= 0\n",
        "        W_out_grad *= 0\n",
        "        W_grad *= 0\n",
        "\n",
        "# テスト        \n",
        "for s in range(x_test.shape[0]):\n",
        "    z *= 0\n",
        "\n",
        "    # sにおける正解データ\n",
        "    d = d_test[s]\n",
        "\n",
        "    xs = x_test[s]\n",
        "\n",
        "    # 時系列ループ\n",
        "    for t in range(maxlen):\n",
        "\n",
        "        # 入力値\n",
        "        x = xs[t]\n",
        "        u = np.dot(x, W_in) + np.dot(z, W)\n",
        "        z = np.tanh(u)\n",
        "\n",
        "    y = np.dot(z, W_out)\n",
        "\n",
        "    #誤差\n",
        "    loss = functions.mean_squared_error(d, y)\n",
        "    print('loss:', loss, '   d:', d, '   y:', y)\n",
        "        \n",
        "        \n",
        "        \n",
        "original = np.full(maxlen, None)\n",
        "pred_num = 200\n",
        "\n",
        "xs = test_head\n",
        "\n",
        "# sin波予測\n",
        "for s in range(0, pred_num):\n",
        "    z *= 0\n",
        "    for t in range(maxlen):\n",
        "        \n",
        "        # 入力値\n",
        "        x = xs[t]\n",
        "        u = np.dot(x, W_in) + np.dot(z, W)\n",
        "        z = np.tanh(u)\n",
        "\n",
        "    y = np.dot(z, W_out)\n",
        "    original = np.append(original, y)\n",
        "    xs = np.delete(xs, 0)\n",
        "    xs = np.append(xs, y)\n",
        "\n",
        "plt.figure()\n",
        "plt.ylim([-1.5, 1.5])\n",
        "plt.plot(np.sin(np.linspace(0, round_num* pred_num / div_num * np.pi, pred_num)), linestyle='dotted', color='#aaaaaa')\n",
        "plt.plot(original, linestyle='dashed', color='black')\n",
        "plt.show()"
      ],
      "execution_count": 4,
      "outputs": [
        {
          "output_type": "stream",
          "text": [
            "loss: 1.001821168835294e-06    d: [-0.47157024]    y: [-0.47298574]\n",
            "loss: 3.8316285817396264e-05    d: [-0.39789889]    y: [-0.38914489]\n",
            "loss: 1.195550219244669e-05    d: [-0.78740743]    y: [-0.79229732]\n",
            "loss: 5.688169957024536e-07    d: [0.25526991]    y: [0.25633651]\n",
            "loss: 5.042766131764598e-06    d: [0.6529121]    y: [0.65608787]\n",
            "loss: 2.323535484703819e-05    d: [0.8773359]    y: [0.87051895]\n",
            "loss: 1.2851597420608287e-05    d: [0.92114593]    y: [0.9160761]\n",
            "loss: 2.9577805540610366e-06    d: [-0.58880346]    y: [-0.59123566]\n",
            "loss: 5.3033087017894245e-05    d: [-0.6529121]    y: [-0.64261325]\n",
            "loss: 3.068291439526518e-05    d: [-0.32751865]    y: [-0.31968501]\n",
            "loss: 5.63868323222965e-07    d: [0.39789889]    y: [0.39896084]\n",
            "loss: 1.413552384893668e-05    d: [-0.15674537]    y: [-0.15142832]\n",
            "loss: 1.3233060812017836e-05    d: [0.97076771]    y: [0.97591224]\n",
            "loss: 1.3588146407511827e-06    d: [-0.50453668]    y: [-0.50618521]\n",
            "loss: 1.3524103237957192e-07    d: [-0.99460929]    y: [-0.99512937]\n",
            "loss: 1.496279633339207e-05    d: [0.95745284]    y: [0.96292327]\n",
            "loss: 1.1148085202439194e-05    d: [-0.92833248]    y: [-0.92361059]\n",
            "loss: 3.32666266289479e-05    d: [-0.35120641]    y: [-0.34304962]\n",
            "loss: 3.70786310829209e-05    d: [-0.3863158]    y: [-0.37770434]\n",
            "loss: 4.326570868917662e-06    d: [0.63363256]    y: [0.63657418]\n",
            "loss: 4.353923469318368e-05    d: [0.44921588]    y: [0.4398843]\n",
            "loss: 2.533672093849227e-05    d: [-0.86811636]    y: [-0.86099783]\n",
            "loss: 8.639496897918306e-07    d: [0.45483173]    y: [0.45614623]\n",
            "loss: 5.311920595824838e-05    d: [0.59893397]    y: [0.58862677]\n",
            "loss: 1.0055949688702445e-06    d: [0.18156486]    y: [0.18298303]\n",
            "loss: 4.6767407100618945e-06    d: [0.64332332]    y: [0.64638167]\n",
            "loss: 1.599306580743847e-08    d: [0.99247351]    y: [0.99265236]\n",
            "loss: 1.8474236177345438e-05    d: [-0.89762559]    y: [-0.89154706]\n",
            "loss: 1.8802261802942147e-06    d: [-0.11308158]    y: [-0.11502077]\n",
            "loss: 1.2182950786143748e-05    d: [0.79127273]    y: [0.79620891]\n",
            "loss: 4.857808115857019e-06    d: [-0.64813056]    y: [-0.65124754]\n",
            "loss: 5.0259896375988254e-06    d: [0.95561698]    y: [0.95244649]\n",
            "loss: 5.84751441954814e-06    d: [0.99690497]    y: [1.00032477]\n",
            "loss: 5.842918948771736e-07    d: [-0.4036669]    y: [-0.40474791]\n",
            "loss: 2.0465335767793966e-06    d: [-0.99987614]    y: [-1.00189927]\n",
            "loss: 5.237713037590726e-05    d: [-0.57343317]    y: [-0.56319822]\n",
            "loss: 4.55029379577946e-05    d: [0.75537465]    y: [0.74583495]\n",
            "loss: 4.716398434626628e-06    d: [0.00629574]    y: [0.00936702]\n",
            "loss: 2.0654532019500444e-05    d: [-0.23084276]    y: [-0.22441554]\n",
            "loss: 2.3468307818566043e-06    d: [0.56307233]    y: [0.56523881]\n",
            "loss: 1.8459664559319363e-06    d: [0.99975723]    y: [1.00167867]\n",
            "loss: 1.7754700800069885e-06    d: [0.11933469]    y: [0.12121909]\n",
            "loss: 2.1247195911344542e-05    d: [0.23696388]    y: [0.2304451]\n",
            "loss: 2.0004302281899048e-07    d: [0.99524241]    y: [0.99587493]\n",
            "loss: 1.1411501423016343e-05    d: [-0.98039956]    y: [-0.9851769]\n",
            "loss: 1.6706877736514238e-05    d: [0.18775236]    y: [0.18197189]\n",
            "loss: 3.446312694027539e-05    d: [0.82463104]    y: [0.81632886]\n",
            "loss: 6.2409520302279e-06    d: [-0.94988243]    y: [-0.94634946]\n",
            "loss: 1.1705129757378876e-05    d: [0.92597363]    y: [0.92113522]\n",
            "loss: 2.367721314181413e-05    d: [0.26135201]    y: [0.25447055]\n",
            "loss: 4.49811295488685e-05    d: [-0.75948523]    y: [-0.75000038]\n",
            "loss: 2.028533646769548e-07    d: [-0.98611478]    y: [-0.98547783]\n",
            "loss: 7.499350947690011e-07    d: [-0.43793098]    y: [-0.43915567]\n",
            "loss: 6.702616914583728e-07    d: [0.23084276]    y: [0.23200057]\n",
            "loss: 1.4664769817573572e-05    d: [0.83516734]    y: [0.84058301]\n",
            "loss: 4.3337982050227924e-05    d: [0.77163571]    y: [0.76232571]\n",
            "loss: 1.2737717225792436e-05    d: [0.97371292]    y: [0.97876023]\n",
            "loss: 3.4112375431131424e-06    d: [-0.99975723]    y: [-1.00236922]\n",
            "loss: 6.429288289821591e-06    d: [0.99583607]    y: [0.99942196]\n",
            "loss: 7.854361682965818e-07    d: [0.44358222]    y: [0.44483557]\n",
            "loss: 1.580538766232994e-05    d: [-0.94789551]    y: [-0.95351786]\n",
            "loss: 1.2481961197273443e-05    d: [-0.97512765]    y: [-0.98012404]\n",
            "loss: 6.866202285127246e-06    d: [-0.694759]    y: [-0.69846473]\n",
            "loss: 2.1846135041322705e-05    d: [-0.2430756]    y: [-0.23646559]\n",
            "loss: 2.0068463853316287e-05    d: [0.22471249]    y: [0.21837712]\n",
            "loss: 2.1074553733198764e-06    d: [-0.10056216]    y: [-0.10261519]\n",
            "loss: 5.1741739435272145e-05    d: [0.68564779]    y: [0.6754751]\n",
            "loss: 2.7460141812411333e-05    d: [0.29761864]    y: [0.29020782]\n",
            "loss: 2.7697525031747076e-07    d: [-0.99583607]    y: [-0.99658035]\n",
            "loss: 8.510577037381829e-06    d: [-0.99085292]    y: [-0.99497859]\n",
            "loss: 4.6342324398679964e-07    d: [0.35120641]    y: [0.35216914]\n",
            "loss: 2.2541089852559766e-05    d: [-0.88033969]    y: [-0.87362536]\n",
            "loss: 5.198366295972673e-05    d: [-0.68105132]    y: [-0.67085488]\n",
            "loss: 1.565086921602224e-05    d: [0.85534252]    y: [0.86093731]\n",
            "loss: 9.106005186776329e-06    d: [-0.98907524]    y: [-0.99334279]\n",
            "loss: 4.9537135434721655e-05    d: [-0.71705202]    y: [-0.70709842]\n",
            "loss: 2.6748105028693616e-05    d: [-0.86179776]    y: [-0.85448365]\n",
            "loss: 1.270401099095053e-05    d: [0.13806466]    y: [0.13302402]\n",
            "loss: 1.108184027477182e-06    d: [-0.48263615]    y: [-0.4841249]\n",
            "loss: 1.3322624649895972e-06    d: [-0.15052435]    y: [-0.15215669]\n",
            "loss: 1.463167272009538e-05    d: [0.16296018]    y: [0.15755062]\n",
            "loss: 7.527771853010125e-06    d: [0.70821885]    y: [0.712099]\n",
            "loss: 1.5323654977326843e-05    d: [0.95374324]    y: [0.95927924]\n",
            "loss: 1.4698452123509797e-06    d: [0.97512765]    y: [0.9734131]\n",
            "loss: 1.644045820934455e-05    d: [0.93739898]    y: [0.94313317]\n",
            "loss: 9.98909260474702e-06    d: [0.98611478]    y: [0.99058448]\n",
            "loss: 7.597360561240732e-07    d: [0.98039956]    y: [0.97916689]\n",
            "loss: 5.144766400804013e-05    d: [-0.55262221]    y: [-0.54247848]\n",
            "loss: 2.495626568385351e-06    d: [0.08175375]    y: [0.08398787]\n",
            "loss: 3.5821765388367196e-05    d: [-0.37467145]    y: [-0.3662072]\n",
            "loss: 1.3465686259769187e-07    d: [0.98714074]    y: [0.98662178]\n",
            "loss: 1.565151654446552e-05    d: [0.17537017]    y: [0.16977526]\n",
            "loss: 1.5147090412232574e-05    d: [-0.95561698]    y: [-0.96112099]\n",
            "loss: 1.3648771002146693e-05    d: [0.15052435]    y: [0.14529965]\n",
            "loss: 1.695825274903518e-05    d: [-0.92114593]    y: [-0.92696972]\n",
            "loss: 5.135842537362478e-07    d: [-0.38050117]    y: [-0.38151466]\n",
            "loss: 4.7044108996155585e-05    d: [-0.48814053]    y: [-0.47844062]\n",
            "loss: 1.933106793589577e-06    d: [0.54208448]    y: [0.54405075]\n",
            "loss: 5.148111233523351e-05    d: [-0.69021707]    y: [-0.68007004]\n",
            "loss: 5.3281078139312404e-05    d: [0.60896952]    y: [0.59864663]\n"
          ],
          "name": "stdout"
        },
        {
          "output_type": "display_data",
          "data": {
            "image/png": "[encoded data removed]",
            "text/plain": [
              "<Figure size 432x288 with 1 Axes>"
            ]
          },
          "metadata": {
            "tags": [],
            "needs_background": "light"
          }
        }
      ]
    },
    {
      "cell_type": "markdown",
      "metadata": {
        "id": "zU0LOoHksVy8"
      },
      "source": [
        "100回だと、学習が上手く進まず、サイン波も再現できていない。"
      ]
    },
    {
      "cell_type": "markdown",
      "metadata": {
        "id": "qqJtwzuDkNRk"
      },
      "source": [
        "##確認テスト"
      ]
    },
    {
      "cell_type": "markdown",
      "metadata": {
        "id": "kHCuswzag8Fj"
      },
      "source": [
        "・LSTMとCECが抱える課題について、それぞれ簡潔に述べよ。\n"
      ]
    },
    {
      "cell_type": "markdown",
      "metadata": {
        "id": "N3kn9yrdn7pJ"
      },
      "source": [
        "解答  \n",
        "\n",
        "LSTMは入力ゲート、出力ゲート、忘却ゲート、CECと構成する部品が多く、パラメータ数が多い。そのため、計算負荷が高くなる場合がある。\n",
        "CECは学習能力を持たない。そのために3つのゲートを設けて、学習機能を持たせている。"
      ]
    },
    {
      "cell_type": "markdown",
      "metadata": {
        "id": "Adz73k-Zt9-P"
      },
      "source": [
        "・LSTMとGRUの違いを簡潔に述べよ。\n"
      ]
    },
    {
      "cell_type": "markdown",
      "metadata": {
        "id": "1WMuW5hjuG2G"
      },
      "source": [
        "解答  \n",
        "\n",
        "LSTMには入力ゲート、出力ゲート、忘却ゲート、CECがある。対して、GRUにはCECがなく更新ゲートとリセットゲートを持つ。そのため、LSTMはパラメータが多く、GRUはパラメータが少ない。  \n",
        "結果的にLSTMよりGRUの方が計算量は少ない。"
      ]
    }
  ]
}