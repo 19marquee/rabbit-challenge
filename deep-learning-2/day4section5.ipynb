{
  "nbformat": 4,
  "nbformat_minor": 0,
  "metadata": {
    "colab": {
      "name": "day4section5.ipynb",
      "provenance": [],
      "collapsed_sections": [],
      "authorship_tag": "ABX9TyO9XbfyxdYSx1cHzrKfOxWA",
      "include_colab_link": true
    },
    "kernelspec": {
      "name": "python3",
      "display_name": "Python 3"
    },
    "language_info": {
      "name": "python"
    }
  },
  "cells": [
    {
      "cell_type": "markdown",
      "metadata": {
        "id": "view-in-github",
        "colab_type": "text"
      },
      "source": [
        "<a href=\"https://colab.research.google.com/github/19marquee/rabbit-challenge/blob/main/deep-learning-2/day4section5.ipynb\" target=\"_parent\"><img src=\"https://colab.research.google.com/assets/colab-badge.svg\" alt=\"Open In Colab\"/></a>"
      ]
    },
    {
      "cell_type": "markdown",
      "metadata": {
        "id": "tRvTMNra91cL"
      },
      "source": [
        "# レポート 深層学習day4/Section5:Transformer"
      ]
    },
    {
      "cell_type": "markdown",
      "metadata": {
        "id": "8zBbJNUdCNmD"
      },
      "source": [
        "## 100文字以内の要点のまとめ"
      ]
    },
    {
      "cell_type": "markdown",
      "metadata": {
        "id": "rqLDjSvkCN5A"
      },
      "source": [
        "- Attention(注意機構)：注意を向ける情報を学習的に決定する機構。Attentionは辞書オブジェクトの機能と同等と見なせる。query(検索クエリ)に一致するkeyを索引し、対応するvalueを取り出す操作であると見做すことができる。\n",
        "- Self-Attention(事故注意機構)：query、key、valueをすべて同じ(source)にして注意を計算する。Source Target Attentionはqueryにtarget、keyとvalueにsoureceを入力する。\n",
        "- Transformer：「Attention is all you need」という論文で誕生したモデル。従来、Encoder-Decoder Modelの基本だったRNNモデルを全く使用しない。\n",
        "- Scaled Dot-Product Attention：全ての単語に関するAttentionをまとめて計算する。\n",
        "- Positional Encoding：AttentionはRNNと異なり、単語列の位置、語順に関する情報を持たないため、Transformerモデルでは単語ベクトルに単語の位置を付加する。"
      ]
    },
    {
      "cell_type": "markdown",
      "metadata": {
        "id": "rU616UZdD9Cs"
      },
      "source": [
        "## 実装演習のファイル量、コード量が多いため、実装演習結果は、別ファイルに記載します"
      ]
    },
    {
      "cell_type": "markdown",
      "metadata": {
        "id": "oCyHQSTXr0Bt"
      },
      "source": [
        "day4section5_1.ipynb  \n",
        "day4section5_2.ipynb  "
      ]
    },
    {
      "cell_type": "markdown",
      "metadata": {
        "id": "kKCe0Z0r1FEl"
      },
      "source": [
        "##確認テスト"
      ]
    },
    {
      "cell_type": "markdown",
      "metadata": {
        "id": "YtgkmG7MlNjU"
      },
      "source": [
        "該当なしのため、省略します。"
      ]
    }
  ]
}