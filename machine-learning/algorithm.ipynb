{
  "nbformat": 4,
  "nbformat_minor": 0,
  "metadata": {
    "colab": {
      "name": "algorithm.ipynb",
      "provenance": [],
      "authorship_tag": "ABX9TyMMRnYZVEJ8ZrjLcjwSGgj9",
      "include_colab_link": true
    },
    "kernelspec": {
      "name": "python3",
      "display_name": "Python 3"
    },
    "language_info": {
      "name": "python"
    }
  },
  "cells": [
    {
      "cell_type": "markdown",
      "metadata": {
        "id": "view-in-github",
        "colab_type": "text"
      },
      "source": [
        "<a href=\"https://colab.research.google.com/github/19marquee/rabbit-challenge/blob/main/machine-learning/algorithm.ipynb\" target=\"_parent\"><img src=\"https://colab.research.google.com/assets/colab-badge.svg\" alt=\"Open In Colab\"/></a>"
      ]
    },
    {
      "cell_type": "markdown",
      "metadata": {
        "id": "iriRZdRLdZX9"
      },
      "source": [
        "# レポート 機械学習/k近傍法、k-means\n"
      ]
    },
    {
      "cell_type": "markdown",
      "metadata": {
        "id": "2SyNmA4J_sik"
      },
      "source": [
        "## 100文字以内の要点のまとめ"
      ]
    },
    {
      "cell_type": "markdown",
      "metadata": {
        "id": "j4avoriJX7Js"
      },
      "source": [
        "ｋ近傍法（ｋＮＮ）\n",
        "\n",
        "- 分類問題のための機械学習手法で、教師あり学習に含まれる。\n",
        "- 分類したい点の近傍からＫ個の点をとり、それらがももっとも多く所属するクラスに識別。\n",
        "- Ｋを大きくすると決定境界は滑らかになる。\n",
        "\n",
        "ｋ平均法（ｋ－ｍｅａｎｓ）\n",
        "\n",
        "- 特徴の似ているデータ同士をグループ化するクラスタリング手法の一種で、教師なし学習に含まれる。\n",
        "- 与えられたデータをｋ個のクラスタに分類する。\n",
        "- kの値や中心の初期値はハイパーパラメータで、各値を変えるとクラスタリング結果も変化する。"
      ]
    },
    {
      "cell_type": "markdown",
      "metadata": {
        "id": "pYNoNX8Pb0Y6"
      },
      "source": [
        "##実習演習結果"
      ]
    },
    {
      "cell_type": "markdown",
      "metadata": {
        "id": "0G7vJ7LFGguZ"
      },
      "source": [
        "### k近傍法"
      ]
    },
    {
      "cell_type": "code",
      "metadata": {
        "id": "SOWJiKHMGgua"
      },
      "source": [
        "%matplotlib inline\n",
        "import numpy as np\n",
        "import matplotlib.pyplot as plt\n",
        "from scipy import stats"
      ],
      "execution_count": 37,
      "outputs": []
    },
    {
      "cell_type": "markdown",
      "metadata": {
        "id": "-fkddOuWGgud"
      },
      "source": [
        "#### 訓練データ生成"
      ]
    },
    {
      "cell_type": "markdown",
      "metadata": {
        "id": "QAf0SL-xfoGG"
      },
      "source": [
        "訓練データを生成し、プロット"
      ]
    },
    {
      "cell_type": "code",
      "metadata": {
        "id": "BbukYNxeGgue"
      },
      "source": [
        "def gen_data():\n",
        "    x0 = np.random.normal(size=50).reshape(-1, 2) - 1\n",
        "    x1 = np.random.normal(size=50).reshape(-1, 2) + 1.\n",
        "    x_train = np.concatenate([x0, x1])\n",
        "    y_train = np.concatenate([np.zeros(25), np.ones(25)]).astype(np.int)\n",
        "    return x_train, y_train"
      ],
      "execution_count": 38,
      "outputs": []
    },
    {
      "cell_type": "code",
      "metadata": {
        "id": "1e60BMXgGgug",
        "colab": {
          "base_uri": "https://localhost:8080/",
          "height": 282
        },
        "outputId": "96906461-e411-4460-d58a-b77abec90fd6"
      },
      "source": [
        "X_train, ys_train = gen_data()\n",
        "plt.scatter(X_train[:, 0], X_train[:, 1], c=ys_train)"
      ],
      "execution_count": 39,
      "outputs": [
        {
          "output_type": "execute_result",
          "data": {
            "text/plain": [
              "<matplotlib.collections.PathCollection at 0x7ff4921acad0>"
            ]
          },
          "metadata": {
            "tags": []
          },
          "execution_count": 39
        },
        {
          "output_type": "display_data",
          "data": {
            "image/png": "[encoded data removed]",
            "text/plain": [
              "<Figure size 432x288 with 1 Axes>"
            ]
          },
          "metadata": {
            "tags": [],
            "needs_background": "light"
          }
        }
      ]
    },
    {
      "cell_type": "markdown",
      "metadata": {
        "collapsed": true,
        "id": "zcWhJdzVGgui"
      },
      "source": [
        "#### 学習"
      ]
    },
    {
      "cell_type": "markdown",
      "metadata": {
        "id": "wDG3d8y6Gguj"
      },
      "source": [
        "k近傍法に、コードの形での陽な学習ステップはない。"
      ]
    },
    {
      "cell_type": "markdown",
      "metadata": {
        "id": "fMlLy_YwGguk"
      },
      "source": [
        "#### 予測"
      ]
    },
    {
      "cell_type": "markdown",
      "metadata": {
        "id": "glejv40HGguk"
      },
      "source": [
        "予測するデータ点との、距離が最も近い$k$個の、訓練データのラベルの最頻値を割り当てる"
      ]
    },
    {
      "cell_type": "code",
      "metadata": {
        "id": "XDj_GUggGgul"
      },
      "source": [
        "def distance(x1, x2):\n",
        "    return np.sum((x1 - x2)**2, axis=1)\n",
        "\n",
        "def knc_predict(n_neighbors, x_train, y_train, X_test):\n",
        "    y_pred = np.empty(len(X_test), dtype=y_train.dtype)\n",
        "    for i, x in enumerate(X_test):\n",
        "        distances = distance(x, X_train)\n",
        "        nearest_index = distances.argsort()[:n_neighbors]\n",
        "        mode, _ = stats.mode(y_train[nearest_index])\n",
        "        y_pred[i] = mode\n",
        "    return y_pred\n",
        "\n",
        "def plt_resut(x_train, y_train, y_pred):\n",
        "    xx0, xx1 = np.meshgrid(np.linspace(-5, 5, 100), np.linspace(-5, 5, 100))\n",
        "    xx = np.array([xx0, xx1]).reshape(2, -1).T\n",
        "    plt.scatter(x_train[:, 0], x_train[:, 1], c=y_train)\n",
        "    plt.contourf(xx0, xx1, y_pred.reshape(100, 100).astype(dtype=np.float), alpha=0.2, levels=np.linspace(0, 1, 3))"
      ],
      "execution_count": 40,
      "outputs": []
    },
    {
      "cell_type": "markdown",
      "metadata": {
        "id": "TLLMtJUTfstc"
      },
      "source": [
        "決定境界をプロット"
      ]
    },
    {
      "cell_type": "code",
      "metadata": {
        "id": "PuD8ITzOGgum",
        "colab": {
          "base_uri": "https://localhost:8080/",
          "height": 265
        },
        "outputId": "1d09b140-2b47-4e84-8af5-0733105c0279"
      },
      "source": [
        "n_neighbors = 3\n",
        "\n",
        "xx0, xx1 = np.meshgrid(np.linspace(-5, 5, 100), np.linspace(-5, 5, 100))\n",
        "X_test = np.array([xx0, xx1]).reshape(2, -1).T\n",
        "\n",
        "y_pred = knc_predict(n_neighbors, X_train, ys_train, X_test)\n",
        "plt_resut(X_train, ys_train, y_pred)"
      ],
      "execution_count": 41,
      "outputs": [
        {
          "output_type": "display_data",
          "data": {
            "image/png": "[encoded data removed]",
            "text/plain": [
              "<Figure size 432x288 with 1 Axes>"
            ]
          },
          "metadata": {
            "tags": [],
            "needs_background": "light"
          }
        }
      ]
    },
    {
      "cell_type": "markdown",
      "metadata": {
        "id": "sg3X0mnZGguo"
      },
      "source": [
        "#### numpy実装"
      ]
    },
    {
      "cell_type": "markdown",
      "metadata": {
        "id": "HkZdcS5nhXVU"
      },
      "source": [
        "kの値を3から6に変えると、決定境界が滑らかになった。"
      ]
    },
    {
      "cell_type": "code",
      "metadata": {
        "id": "i2UkN_UomVem"
      },
      "source": [
        "xx0, xx1 = np.meshgrid(np.linspace(-5, 5, 100), np.linspace(-5, 5, 100))\n",
        "xx = np.array([xx0, xx1]).reshape(2, -1).T"
      ],
      "execution_count": 42,
      "outputs": []
    },
    {
      "cell_type": "code",
      "metadata": {
        "id": "AiaA-7lyGgup",
        "colab": {
          "base_uri": "https://localhost:8080/",
          "height": 265
        },
        "outputId": "f8edb342-d3c3-4066-f47a-6d3365f348e3"
      },
      "source": [
        "from sklearn.neighbors import KNeighborsClassifier\n",
        "n_neighbors = 6\n",
        "knc = KNeighborsClassifier(n_neighbors=n_neighbors).fit(X_train, ys_train)\n",
        "plt_resut(X_train, ys_train, knc.predict(xx))"
      ],
      "execution_count": 43,
      "outputs": [
        {
          "output_type": "display_data",
          "data": {
            "image/png": "[encoded data removed]",
            "text/plain": [
              "<Figure size 432x288 with 1 Axes>"
            ]
          },
          "metadata": {
            "tags": [],
            "needs_background": "light"
          }
        }
      ]
    },
    {
      "cell_type": "markdown",
      "metadata": {
        "id": "Rzmh1Io2d2NG"
      },
      "source": [
        "### k平均クラスタリング(k-means)"
      ]
    },
    {
      "cell_type": "code",
      "metadata": {
        "id": "lU8HuW6sGG8D"
      },
      "source": [
        "%matplotlib inline\n",
        "import numpy as np\n",
        "import matplotlib.pyplot as plt"
      ],
      "execution_count": 44,
      "outputs": []
    },
    {
      "cell_type": "markdown",
      "metadata": {
        "id": "JqMT-eHOGG8F"
      },
      "source": [
        "#### データ生成"
      ]
    },
    {
      "cell_type": "markdown",
      "metadata": {
        "id": "ZrgUoyfNf_Cs"
      },
      "source": [
        "データを生成し、プロット"
      ]
    },
    {
      "cell_type": "code",
      "metadata": {
        "id": "cQtrC8aGGG8F"
      },
      "source": [
        "def gen_data():\n",
        "    x1 = np.random.normal(size=(100, 2)) + np.array([-5, -5])\n",
        "    x2 = np.random.normal(size=(100, 2)) + np.array([5, -5])\n",
        "    x3 = np.random.normal(size=(100, 2)) + np.array([0, 5])\n",
        "    return np.vstack((x1, x2, x3))"
      ],
      "execution_count": 45,
      "outputs": []
    },
    {
      "cell_type": "code",
      "metadata": {
        "id": "HpsNF9udGG8H",
        "colab": {
          "base_uri": "https://localhost:8080/",
          "height": 282
        },
        "outputId": "791f5d63-1c9e-4a92-db96-56630489685f"
      },
      "source": [
        "#データ作成\n",
        "X_train = gen_data()\n",
        "#データ描画\n",
        "plt.scatter(X_train[:, 0], X_train[:, 1])"
      ],
      "execution_count": 46,
      "outputs": [
        {
          "output_type": "execute_result",
          "data": {
            "text/plain": [
              "<matplotlib.collections.PathCollection at 0x7ff49209bed0>"
            ]
          },
          "metadata": {
            "tags": []
          },
          "execution_count": 46
        },
        {
          "output_type": "display_data",
          "data": {
            "image/png": "[encoded data removed]",
            "text/plain": [
              "<Figure size 432x288 with 1 Axes>"
            ]
          },
          "metadata": {
            "tags": [],
            "needs_background": "light"
          }
        }
      ]
    },
    {
      "cell_type": "markdown",
      "metadata": {
        "id": "ZpewqpW5GG8K"
      },
      "source": [
        "#### 学習"
      ]
    },
    {
      "cell_type": "markdown",
      "metadata": {
        "id": "1TLjmQ07GG8K"
      },
      "source": [
        "k-meansアルゴリズムは以下のとおりである\n",
        "\n",
        "1) 各クラスタ中心の初期値を設定する\n",
        "\n",
        "2) 各データ点に対して、各クラスタ中心との距離を計算し、最も距離が近いクラスタを割り当てる\n",
        "\n",
        "3) 各クラスタの平均ベクトル（中心）を計算する\n",
        "\n",
        "4) 収束するまで2, 3の処理を繰り返す"
      ]
    },
    {
      "cell_type": "code",
      "metadata": {
        "id": "E3HTLcqqGG8L"
      },
      "source": [
        "def distance(x1, x2):\n",
        "    return np.sum((x1 - x2)**2, axis=1)\n",
        "\n",
        "n_clusters = 3\n",
        "iter_max = 100\n",
        "\n",
        "# 各クラスタ中心をランダムに初期化\n",
        "centers = X_train[np.random.choice(len(X_train), n_clusters, replace=False)]\n",
        "\n",
        "for _ in range(iter_max):\n",
        "    prev_centers = np.copy(centers)\n",
        "    D = np.zeros((len(X_train), n_clusters))\n",
        "    # 各データ点に対して、各クラスタ中心との距離を計算\n",
        "    for i, x in enumerate(X_train):\n",
        "        D[i] = distance(x, centers)\n",
        "    # 各データ点に、最も距離が近いクラスタを割り当\n",
        "    cluster_index = np.argmin(D, axis=1)\n",
        "    # 各クラスタの中心を計算\n",
        "    for k in range(n_clusters):\n",
        "        index_k = cluster_index == k\n",
        "        centers[k] = np.mean(X_train[index_k], axis=0)\n",
        "    # 収束判定\n",
        "    if np.allclose(prev_centers, centers):\n",
        "        break"
      ],
      "execution_count": 47,
      "outputs": []
    },
    {
      "cell_type": "markdown",
      "metadata": {
        "id": "HuMKtR-BGG8M"
      },
      "source": [
        "#### クラスタリング結果"
      ]
    },
    {
      "cell_type": "code",
      "metadata": {
        "id": "hPhK6CVjGG8N"
      },
      "source": [
        "def plt_result(X_train, centers, xx):\n",
        "    #　データを可視化\n",
        "    plt.scatter(X_train[:, 0], X_train[:, 1], c=y_pred, cmap='spring')\n",
        "    # 中心を可視化\n",
        "    plt.scatter(centers[:, 0], centers[:, 1], s=200, marker='X', lw=2, c='black', edgecolor=\"white\")\n",
        "    # 領域の可視化\n",
        "    pred = np.empty(len(xx), dtype=int)\n",
        "    for i, x in enumerate(xx):\n",
        "        d = distance(x, centers)\n",
        "        pred[i] = np.argmin(d)\n",
        "    plt.contourf(xx0, xx1, pred.reshape(100, 100), alpha=0.2, cmap='spring')"
      ],
      "execution_count": 48,
      "outputs": []
    },
    {
      "cell_type": "code",
      "metadata": {
        "id": "StbgoJ9QGG8O"
      },
      "source": [
        "y_pred = np.empty(len(X_train), dtype=int)\n",
        "for i, x in enumerate(X_train):\n",
        "    d = distance(x, centers)\n",
        "    y_pred[i] = np.argmin(d)"
      ],
      "execution_count": 49,
      "outputs": []
    },
    {
      "cell_type": "code",
      "metadata": {
        "id": "qd-CDPUMGG8Q",
        "colab": {
          "base_uri": "https://localhost:8080/",
          "height": 269
        },
        "outputId": "9f36a0ac-2e0d-4092-dc7a-fd725562063f"
      },
      "source": [
        "xx0, xx1 = np.meshgrid(np.linspace(-10, 10, 100), np.linspace(-10, 10, 100))\n",
        "xx = np.array([xx0, xx1]).reshape(2, -1).T\n",
        "\n",
        "plt_result(X_train, centers, xx)"
      ],
      "execution_count": 50,
      "outputs": [
        {
          "output_type": "display_data",
          "data": {
            "image/png": "[encoded data removed]",
            "text/plain": [
              "<Figure size 432x288 with 1 Axes>"
            ]
          },
          "metadata": {
            "tags": [],
            "needs_background": "light"
          }
        }
      ]
    },
    {
      "cell_type": "markdown",
      "metadata": {
        "id": "HCVeajWWGG8R"
      },
      "source": [
        "#### numpy実装"
      ]
    },
    {
      "cell_type": "markdown",
      "metadata": {
        "id": "kIUCi2G7gP4i"
      },
      "source": [
        "クラスタ数を4に変更して実施すると、データのかたまりの内、一つを無理やりクラスタリングしてしまう。"
      ]
    },
    {
      "cell_type": "code",
      "metadata": {
        "id": "eyaKnPgLGG8S"
      },
      "source": [
        "from sklearn.cluster import KMeans\n",
        "kmeans = KMeans(n_clusters=4, random_state=0).fit(X_train)"
      ],
      "execution_count": 51,
      "outputs": []
    },
    {
      "cell_type": "code",
      "metadata": {
        "id": "cjPkGw-DGG8U",
        "colab": {
          "base_uri": "https://localhost:8080/"
        },
        "outputId": "b40303c3-1264-4228-c169-f1c340608aca"
      },
      "source": [
        "print(\"labels: {}\".format(kmeans.labels_))\n",
        "print(\"cluster_centers: {}\".format(kmeans.cluster_centers_))\n",
        "kmeans.cluster_centers_"
      ],
      "execution_count": 52,
      "outputs": [
        {
          "output_type": "stream",
          "text": [
            "labels: [1 3 3 3 3 1 3 3 3 1 1 3 3 1 3 3 3 1 1 1 1 3 1 1 1 1 3 1 1 3 3 1 1 3 3 1 1\n",
            " 1 3 1 3 1 1 1 1 1 3 1 1 1 3 1 1 1 1 3 3 1 3 1 1 3 1 3 1 1 3 1 1 3 3 1 3 3\n",
            " 3 3 3 1 3 1 1 3 1 1 1 1 3 3 1 1 3 1 1 3 3 3 3 1 1 3 2 2 2 2 2 2 2 2 2 2 2\n",
            " 2 2 2 2 2 2 2 2 2 2 2 2 2 2 2 2 2 2 2 2 2 2 2 2 2 2 2 2 2 2 2 2 2 2 2 2 2\n",
            " 2 2 2 2 2 2 2 2 2 2 2 2 2 2 2 2 2 2 2 2 2 2 2 2 2 2 2 2 2 2 2 2 2 2 2 2 2\n",
            " 2 2 2 2 2 2 2 2 2 2 2 2 2 2 2 0 0 0 0 0 0 0 0 0 0 0 0 0 0 0 0 0 0 0 0 0 0\n",
            " 0 0 0 0 0 0 0 0 0 0 0 0 0 0 0 0 0 0 0 0 0 0 0 0 0 0 0 0 0 0 0 0 0 0 0 0 0\n",
            " 0 0 0 0 0 0 0 0 0 0 0 0 0 0 0 0 0 0 0 0 0 0 0 0 0 0 0 0 0 0 0 0 0 0 0 0 0\n",
            " 0 0 0 0]\n",
            "cluster_centers: [[ 0.20306244  4.97638802]\n",
            " [-5.67003774 -4.51143068]\n",
            " [ 5.11560099 -5.11082118]\n",
            " [-4.47190861 -5.76227371]]\n"
          ],
          "name": "stdout"
        },
        {
          "output_type": "execute_result",
          "data": {
            "text/plain": [
              "array([[ 0.20306244,  4.97638802],\n",
              "       [-5.67003774, -4.51143068],\n",
              "       [ 5.11560099, -5.11082118],\n",
              "       [-4.47190861, -5.76227371]])"
            ]
          },
          "metadata": {
            "tags": []
          },
          "execution_count": 52
        }
      ]
    },
    {
      "cell_type": "code",
      "metadata": {
        "id": "1lJala6AGG8W",
        "colab": {
          "base_uri": "https://localhost:8080/",
          "height": 269
        },
        "outputId": "1ae1f172-4139-468d-d385-39b9b172c4fd"
      },
      "source": [
        "plt_result(X_train, kmeans.cluster_centers_, xx)"
      ],
      "execution_count": 53,
      "outputs": [
        {
          "output_type": "display_data",
          "data": {
            "image/png": "[encoded data removed]",
            "text/plain": [
              "<Figure size 432x288 with 1 Axes>"
            ]
          },
          "metadata": {
            "tags": [],
            "needs_background": "light"
          }
        }
      ]
    }
  ]
}